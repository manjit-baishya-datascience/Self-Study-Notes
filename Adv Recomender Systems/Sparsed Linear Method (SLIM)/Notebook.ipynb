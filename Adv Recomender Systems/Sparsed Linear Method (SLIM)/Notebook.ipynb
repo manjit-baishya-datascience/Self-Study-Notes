{
 "cells": [
  {
   "cell_type": "markdown",
   "metadata": {},
   "source": [
    "# **Sparsed Linear Method (SLIM)**\n",
    "---"
   ]
  },
  {
   "cell_type": "code",
   "execution_count": 1,
   "metadata": {},
   "outputs": [
    {
     "data": {
      "text/html": [
       "<div>\n",
       "<style scoped>\n",
       "    .dataframe tbody tr th:only-of-type {\n",
       "        vertical-align: middle;\n",
       "    }\n",
       "\n",
       "    .dataframe tbody tr th {\n",
       "        vertical-align: top;\n",
       "    }\n",
       "\n",
       "    .dataframe thead th {\n",
       "        text-align: right;\n",
       "    }\n",
       "</style>\n",
       "<table border=\"1\" class=\"dataframe\">\n",
       "  <thead>\n",
       "    <tr style=\"text-align: right;\">\n",
       "      <th></th>\n",
       "      <th>userId</th>\n",
       "      <th>movieId</th>\n",
       "      <th>rating</th>\n",
       "    </tr>\n",
       "  </thead>\n",
       "  <tbody>\n",
       "    <tr>\n",
       "      <th>0</th>\n",
       "      <td>1</td>\n",
       "      <td>3578</td>\n",
       "      <td>5.0</td>\n",
       "    </tr>\n",
       "    <tr>\n",
       "      <th>1</th>\n",
       "      <td>1</td>\n",
       "      <td>1127</td>\n",
       "      <td>4.0</td>\n",
       "    </tr>\n",
       "    <tr>\n",
       "      <th>2</th>\n",
       "      <td>1</td>\n",
       "      <td>157</td>\n",
       "      <td>5.0</td>\n",
       "    </tr>\n",
       "    <tr>\n",
       "      <th>3</th>\n",
       "      <td>1</td>\n",
       "      <td>2617</td>\n",
       "      <td>2.0</td>\n",
       "    </tr>\n",
       "    <tr>\n",
       "      <th>4</th>\n",
       "      <td>1</td>\n",
       "      <td>260</td>\n",
       "      <td>5.0</td>\n",
       "    </tr>\n",
       "  </tbody>\n",
       "</table>\n",
       "</div>"
      ],
      "text/plain": [
       "   userId  movieId  rating\n",
       "0       1     3578     5.0\n",
       "1       1     1127     4.0\n",
       "2       1      157     5.0\n",
       "3       1     2617     2.0\n",
       "4       1      260     5.0"
      ]
     },
     "execution_count": 1,
     "metadata": {},
     "output_type": "execute_result"
    }
   ],
   "source": [
    "import pandas as pd\n",
    "import numpy as np\n",
    "\n",
    "df = pd.read_csv('data.csv')\n",
    "df.head()"
   ]
  },
  {
   "cell_type": "markdown",
   "metadata": {},
   "source": [
    "## **1. User-Item Matrix**"
   ]
  },
  {
   "cell_type": "code",
   "execution_count": 2,
   "metadata": {},
   "outputs": [
    {
     "data": {
      "text/html": [
       "<div>\n",
       "<style scoped>\n",
       "    .dataframe tbody tr th:only-of-type {\n",
       "        vertical-align: middle;\n",
       "    }\n",
       "\n",
       "    .dataframe tbody tr th {\n",
       "        vertical-align: top;\n",
       "    }\n",
       "\n",
       "    .dataframe thead th {\n",
       "        text-align: right;\n",
       "    }\n",
       "</style>\n",
       "<table border=\"1\" class=\"dataframe\">\n",
       "  <thead>\n",
       "    <tr style=\"text-align: right;\">\n",
       "      <th>movieId</th>\n",
       "      <th>13</th>\n",
       "      <th>32</th>\n",
       "      <th>36</th>\n",
       "      <th>39</th>\n",
       "      <th>43</th>\n",
       "      <th>62</th>\n",
       "      <th>146</th>\n",
       "      <th>150</th>\n",
       "      <th>153</th>\n",
       "      <th>157</th>\n",
       "      <th>...</th>\n",
       "      <th>74458</th>\n",
       "      <th>77455</th>\n",
       "      <th>80906</th>\n",
       "      <th>84374</th>\n",
       "      <th>88810</th>\n",
       "      <th>97938</th>\n",
       "      <th>99114</th>\n",
       "      <th>106782</th>\n",
       "      <th>115713</th>\n",
       "      <th>122882</th>\n",
       "    </tr>\n",
       "    <tr>\n",
       "      <th>userId</th>\n",
       "      <th></th>\n",
       "      <th></th>\n",
       "      <th></th>\n",
       "      <th></th>\n",
       "      <th></th>\n",
       "      <th></th>\n",
       "      <th></th>\n",
       "      <th></th>\n",
       "      <th></th>\n",
       "      <th></th>\n",
       "      <th></th>\n",
       "      <th></th>\n",
       "      <th></th>\n",
       "      <th></th>\n",
       "      <th></th>\n",
       "      <th></th>\n",
       "      <th></th>\n",
       "      <th></th>\n",
       "      <th></th>\n",
       "      <th></th>\n",
       "      <th></th>\n",
       "    </tr>\n",
       "  </thead>\n",
       "  <tbody>\n",
       "    <tr>\n",
       "      <th>1</th>\n",
       "      <td>0.0</td>\n",
       "      <td>0.0</td>\n",
       "      <td>0.0</td>\n",
       "      <td>0.0</td>\n",
       "      <td>0.0</td>\n",
       "      <td>0.0</td>\n",
       "      <td>0.0</td>\n",
       "      <td>0.0</td>\n",
       "      <td>0.0</td>\n",
       "      <td>5.0</td>\n",
       "      <td>...</td>\n",
       "      <td>0.0</td>\n",
       "      <td>0.0</td>\n",
       "      <td>0.0</td>\n",
       "      <td>0.0</td>\n",
       "      <td>0.0</td>\n",
       "      <td>0.0</td>\n",
       "      <td>0.0</td>\n",
       "      <td>0.0</td>\n",
       "      <td>0.0</td>\n",
       "      <td>0.0</td>\n",
       "    </tr>\n",
       "    <tr>\n",
       "      <th>2</th>\n",
       "      <td>0.0</td>\n",
       "      <td>0.0</td>\n",
       "      <td>0.0</td>\n",
       "      <td>0.0</td>\n",
       "      <td>0.0</td>\n",
       "      <td>0.0</td>\n",
       "      <td>0.0</td>\n",
       "      <td>0.0</td>\n",
       "      <td>0.0</td>\n",
       "      <td>0.0</td>\n",
       "      <td>...</td>\n",
       "      <td>4.0</td>\n",
       "      <td>3.0</td>\n",
       "      <td>5.0</td>\n",
       "      <td>0.0</td>\n",
       "      <td>0.0</td>\n",
       "      <td>0.0</td>\n",
       "      <td>3.5</td>\n",
       "      <td>5.0</td>\n",
       "      <td>3.5</td>\n",
       "      <td>5.0</td>\n",
       "    </tr>\n",
       "    <tr>\n",
       "      <th>3</th>\n",
       "      <td>0.0</td>\n",
       "      <td>0.0</td>\n",
       "      <td>0.0</td>\n",
       "      <td>0.0</td>\n",
       "      <td>0.0</td>\n",
       "      <td>0.0</td>\n",
       "      <td>0.0</td>\n",
       "      <td>0.0</td>\n",
       "      <td>0.0</td>\n",
       "      <td>0.0</td>\n",
       "      <td>...</td>\n",
       "      <td>0.0</td>\n",
       "      <td>0.0</td>\n",
       "      <td>0.0</td>\n",
       "      <td>0.0</td>\n",
       "      <td>0.0</td>\n",
       "      <td>0.0</td>\n",
       "      <td>0.0</td>\n",
       "      <td>0.0</td>\n",
       "      <td>0.0</td>\n",
       "      <td>0.0</td>\n",
       "    </tr>\n",
       "    <tr>\n",
       "      <th>4</th>\n",
       "      <td>0.0</td>\n",
       "      <td>0.0</td>\n",
       "      <td>0.0</td>\n",
       "      <td>0.0</td>\n",
       "      <td>0.0</td>\n",
       "      <td>0.0</td>\n",
       "      <td>0.0</td>\n",
       "      <td>0.0</td>\n",
       "      <td>0.0</td>\n",
       "      <td>0.0</td>\n",
       "      <td>...</td>\n",
       "      <td>0.0</td>\n",
       "      <td>0.0</td>\n",
       "      <td>0.0</td>\n",
       "      <td>0.0</td>\n",
       "      <td>0.0</td>\n",
       "      <td>0.0</td>\n",
       "      <td>0.0</td>\n",
       "      <td>0.0</td>\n",
       "      <td>0.0</td>\n",
       "      <td>0.0</td>\n",
       "    </tr>\n",
       "    <tr>\n",
       "      <th>5</th>\n",
       "      <td>0.0</td>\n",
       "      <td>0.0</td>\n",
       "      <td>4.0</td>\n",
       "      <td>3.0</td>\n",
       "      <td>0.0</td>\n",
       "      <td>0.0</td>\n",
       "      <td>0.0</td>\n",
       "      <td>3.0</td>\n",
       "      <td>0.0</td>\n",
       "      <td>0.0</td>\n",
       "      <td>...</td>\n",
       "      <td>0.0</td>\n",
       "      <td>0.0</td>\n",
       "      <td>0.0</td>\n",
       "      <td>0.0</td>\n",
       "      <td>0.0</td>\n",
       "      <td>0.0</td>\n",
       "      <td>0.0</td>\n",
       "      <td>0.0</td>\n",
       "      <td>0.0</td>\n",
       "      <td>0.0</td>\n",
       "    </tr>\n",
       "  </tbody>\n",
       "</table>\n",
       "<p>5 rows × 94 columns</p>\n",
       "</div>"
      ],
      "text/plain": [
       "movieId  13      32      36      39      43      62      146     150     \\\n",
       "userId                                                                    \n",
       "1           0.0     0.0     0.0     0.0     0.0     0.0     0.0     0.0   \n",
       "2           0.0     0.0     0.0     0.0     0.0     0.0     0.0     0.0   \n",
       "3           0.0     0.0     0.0     0.0     0.0     0.0     0.0     0.0   \n",
       "4           0.0     0.0     0.0     0.0     0.0     0.0     0.0     0.0   \n",
       "5           0.0     0.0     4.0     3.0     0.0     0.0     0.0     3.0   \n",
       "\n",
       "movieId  153     157     ...  74458   77455   80906   84374   88810   97938   \\\n",
       "userId                   ...                                                   \n",
       "1           0.0     5.0  ...     0.0     0.0     0.0     0.0     0.0     0.0   \n",
       "2           0.0     0.0  ...     4.0     3.0     5.0     0.0     0.0     0.0   \n",
       "3           0.0     0.0  ...     0.0     0.0     0.0     0.0     0.0     0.0   \n",
       "4           0.0     0.0  ...     0.0     0.0     0.0     0.0     0.0     0.0   \n",
       "5           0.0     0.0  ...     0.0     0.0     0.0     0.0     0.0     0.0   \n",
       "\n",
       "movieId  99114   106782  115713  122882  \n",
       "userId                                   \n",
       "1           0.0     0.0     0.0     0.0  \n",
       "2           3.5     5.0     3.5     5.0  \n",
       "3           0.0     0.0     0.0     0.0  \n",
       "4           0.0     0.0     0.0     0.0  \n",
       "5           0.0     0.0     0.0     0.0  \n",
       "\n",
       "[5 rows x 94 columns]"
      ]
     },
     "execution_count": 2,
     "metadata": {},
     "output_type": "execute_result"
    }
   ],
   "source": [
    "ui_matrix = df.pivot_table(index='userId', columns='movieId', values='rating')\n",
    "ui_matrix = ui_matrix.fillna(0)\n",
    "ui_matrix.head()"
   ]
  },
  {
   "cell_type": "code",
   "execution_count": 3,
   "metadata": {},
   "outputs": [
    {
     "data": {
      "text/plain": [
       "(10, 94)"
      ]
     },
     "execution_count": 3,
     "metadata": {},
     "output_type": "execute_result"
    }
   ],
   "source": [
    "ui_matrix.shape"
   ]
  },
  {
   "cell_type": "markdown",
   "metadata": {},
   "source": [
    "## **2. Cosine Similarity**"
   ]
  },
  {
   "cell_type": "markdown",
   "metadata": {},
   "source": [
    "### **2.1 User-User Similarity Matrix**"
   ]
  },
  {
   "cell_type": "code",
   "execution_count": 4,
   "metadata": {},
   "outputs": [
    {
     "data": {
      "text/html": [
       "<div>\n",
       "<style scoped>\n",
       "    .dataframe tbody tr th:only-of-type {\n",
       "        vertical-align: middle;\n",
       "    }\n",
       "\n",
       "    .dataframe tbody tr th {\n",
       "        vertical-align: top;\n",
       "    }\n",
       "\n",
       "    .dataframe thead th {\n",
       "        text-align: right;\n",
       "    }\n",
       "</style>\n",
       "<table border=\"1\" class=\"dataframe\">\n",
       "  <thead>\n",
       "    <tr style=\"text-align: right;\">\n",
       "      <th>userId</th>\n",
       "      <th>1</th>\n",
       "      <th>2</th>\n",
       "      <th>3</th>\n",
       "      <th>4</th>\n",
       "      <th>5</th>\n",
       "      <th>6</th>\n",
       "      <th>7</th>\n",
       "      <th>8</th>\n",
       "      <th>9</th>\n",
       "      <th>10</th>\n",
       "    </tr>\n",
       "    <tr>\n",
       "      <th>userId</th>\n",
       "      <th></th>\n",
       "      <th></th>\n",
       "      <th></th>\n",
       "      <th></th>\n",
       "      <th></th>\n",
       "      <th></th>\n",
       "      <th></th>\n",
       "      <th></th>\n",
       "      <th></th>\n",
       "      <th></th>\n",
       "    </tr>\n",
       "  </thead>\n",
       "  <tbody>\n",
       "    <tr>\n",
       "      <th>1</th>\n",
       "      <td>1.0</td>\n",
       "      <td>0.0</td>\n",
       "      <td>0.0</td>\n",
       "      <td>0.0</td>\n",
       "      <td>0.0</td>\n",
       "      <td>0.0</td>\n",
       "      <td>0.000000</td>\n",
       "      <td>0.097764</td>\n",
       "      <td>0.0</td>\n",
       "      <td>0.0</td>\n",
       "    </tr>\n",
       "    <tr>\n",
       "      <th>2</th>\n",
       "      <td>0.0</td>\n",
       "      <td>1.0</td>\n",
       "      <td>0.0</td>\n",
       "      <td>0.0</td>\n",
       "      <td>0.0</td>\n",
       "      <td>0.0</td>\n",
       "      <td>0.000000</td>\n",
       "      <td>0.091121</td>\n",
       "      <td>0.0</td>\n",
       "      <td>0.0</td>\n",
       "    </tr>\n",
       "    <tr>\n",
       "      <th>3</th>\n",
       "      <td>0.0</td>\n",
       "      <td>0.0</td>\n",
       "      <td>1.0</td>\n",
       "      <td>0.0</td>\n",
       "      <td>0.0</td>\n",
       "      <td>0.0</td>\n",
       "      <td>0.000000</td>\n",
       "      <td>0.000000</td>\n",
       "      <td>0.0</td>\n",
       "      <td>0.0</td>\n",
       "    </tr>\n",
       "    <tr>\n",
       "      <th>4</th>\n",
       "      <td>0.0</td>\n",
       "      <td>0.0</td>\n",
       "      <td>0.0</td>\n",
       "      <td>1.0</td>\n",
       "      <td>0.0</td>\n",
       "      <td>0.0</td>\n",
       "      <td>0.000000</td>\n",
       "      <td>0.000000</td>\n",
       "      <td>0.0</td>\n",
       "      <td>0.0</td>\n",
       "    </tr>\n",
       "    <tr>\n",
       "      <th>5</th>\n",
       "      <td>0.0</td>\n",
       "      <td>0.0</td>\n",
       "      <td>0.0</td>\n",
       "      <td>0.0</td>\n",
       "      <td>1.0</td>\n",
       "      <td>0.0</td>\n",
       "      <td>0.170227</td>\n",
       "      <td>0.180024</td>\n",
       "      <td>0.0</td>\n",
       "      <td>0.0</td>\n",
       "    </tr>\n",
       "  </tbody>\n",
       "</table>\n",
       "</div>"
      ],
      "text/plain": [
       "userId   1    2    3    4    5    6         7         8    9    10\n",
       "userId                                                            \n",
       "1       1.0  0.0  0.0  0.0  0.0  0.0  0.000000  0.097764  0.0  0.0\n",
       "2       0.0  1.0  0.0  0.0  0.0  0.0  0.000000  0.091121  0.0  0.0\n",
       "3       0.0  0.0  1.0  0.0  0.0  0.0  0.000000  0.000000  0.0  0.0\n",
       "4       0.0  0.0  0.0  1.0  0.0  0.0  0.000000  0.000000  0.0  0.0\n",
       "5       0.0  0.0  0.0  0.0  1.0  0.0  0.170227  0.180024  0.0  0.0"
      ]
     },
     "execution_count": 4,
     "metadata": {},
     "output_type": "execute_result"
    }
   ],
   "source": [
    "from sklearn.metrics.pairwise import cosine_similarity\n",
    "\n",
    "uu_similarity_matrix = cosine_similarity(ui_matrix)\n",
    "uu_similarity_matrix = pd.DataFrame(uu_similarity_matrix, index=ui_matrix.index, columns=ui_matrix.index)\n",
    "uu_similarity_matrix.head()"
   ]
  },
  {
   "cell_type": "code",
   "execution_count": 5,
   "metadata": {},
   "outputs": [
    {
     "data": {
      "text/plain": [
       "(10, 10)"
      ]
     },
     "execution_count": 5,
     "metadata": {},
     "output_type": "execute_result"
    }
   ],
   "source": [
    "uu_similarity_matrix.shape"
   ]
  },
  {
   "cell_type": "markdown",
   "metadata": {},
   "source": [
    "### **2.2 Item-Item Similarity Matrix**"
   ]
  },
  {
   "cell_type": "code",
   "execution_count": 6,
   "metadata": {},
   "outputs": [
    {
     "data": {
      "text/html": [
       "<div>\n",
       "<style scoped>\n",
       "    .dataframe tbody tr th:only-of-type {\n",
       "        vertical-align: middle;\n",
       "    }\n",
       "\n",
       "    .dataframe tbody tr th {\n",
       "        vertical-align: top;\n",
       "    }\n",
       "\n",
       "    .dataframe thead th {\n",
       "        text-align: right;\n",
       "    }\n",
       "</style>\n",
       "<table border=\"1\" class=\"dataframe\">\n",
       "  <thead>\n",
       "    <tr style=\"text-align: right;\">\n",
       "      <th>movieId</th>\n",
       "      <th>13</th>\n",
       "      <th>32</th>\n",
       "      <th>36</th>\n",
       "      <th>39</th>\n",
       "      <th>43</th>\n",
       "      <th>62</th>\n",
       "      <th>146</th>\n",
       "      <th>150</th>\n",
       "      <th>153</th>\n",
       "      <th>157</th>\n",
       "      <th>...</th>\n",
       "      <th>74458</th>\n",
       "      <th>77455</th>\n",
       "      <th>80906</th>\n",
       "      <th>84374</th>\n",
       "      <th>88810</th>\n",
       "      <th>97938</th>\n",
       "      <th>99114</th>\n",
       "      <th>106782</th>\n",
       "      <th>115713</th>\n",
       "      <th>122882</th>\n",
       "    </tr>\n",
       "    <tr>\n",
       "      <th>movieId</th>\n",
       "      <th></th>\n",
       "      <th></th>\n",
       "      <th></th>\n",
       "      <th></th>\n",
       "      <th></th>\n",
       "      <th></th>\n",
       "      <th></th>\n",
       "      <th></th>\n",
       "      <th></th>\n",
       "      <th></th>\n",
       "      <th></th>\n",
       "      <th></th>\n",
       "      <th></th>\n",
       "      <th></th>\n",
       "      <th></th>\n",
       "      <th></th>\n",
       "      <th></th>\n",
       "      <th></th>\n",
       "      <th></th>\n",
       "      <th></th>\n",
       "      <th></th>\n",
       "    </tr>\n",
       "  </thead>\n",
       "  <tbody>\n",
       "    <tr>\n",
       "      <th>13</th>\n",
       "      <td>1.0</td>\n",
       "      <td>0.0</td>\n",
       "      <td>0.0</td>\n",
       "      <td>0.0</td>\n",
       "      <td>1.0</td>\n",
       "      <td>1.0</td>\n",
       "      <td>1.0</td>\n",
       "      <td>0.0</td>\n",
       "      <td>0.0</td>\n",
       "      <td>0.0</td>\n",
       "      <td>...</td>\n",
       "      <td>0.0</td>\n",
       "      <td>0.0</td>\n",
       "      <td>0.0</td>\n",
       "      <td>0.0</td>\n",
       "      <td>0.0</td>\n",
       "      <td>0.0</td>\n",
       "      <td>0.0</td>\n",
       "      <td>0.0</td>\n",
       "      <td>0.0</td>\n",
       "      <td>0.0</td>\n",
       "    </tr>\n",
       "    <tr>\n",
       "      <th>32</th>\n",
       "      <td>0.0</td>\n",
       "      <td>1.0</td>\n",
       "      <td>0.0</td>\n",
       "      <td>0.0</td>\n",
       "      <td>0.0</td>\n",
       "      <td>0.0</td>\n",
       "      <td>0.0</td>\n",
       "      <td>0.0</td>\n",
       "      <td>1.0</td>\n",
       "      <td>0.0</td>\n",
       "      <td>...</td>\n",
       "      <td>0.0</td>\n",
       "      <td>0.0</td>\n",
       "      <td>0.0</td>\n",
       "      <td>0.0</td>\n",
       "      <td>0.0</td>\n",
       "      <td>0.0</td>\n",
       "      <td>0.0</td>\n",
       "      <td>0.0</td>\n",
       "      <td>0.0</td>\n",
       "      <td>0.0</td>\n",
       "    </tr>\n",
       "    <tr>\n",
       "      <th>36</th>\n",
       "      <td>0.0</td>\n",
       "      <td>0.0</td>\n",
       "      <td>1.0</td>\n",
       "      <td>1.0</td>\n",
       "      <td>0.0</td>\n",
       "      <td>0.0</td>\n",
       "      <td>0.0</td>\n",
       "      <td>1.0</td>\n",
       "      <td>0.0</td>\n",
       "      <td>0.0</td>\n",
       "      <td>...</td>\n",
       "      <td>0.0</td>\n",
       "      <td>0.0</td>\n",
       "      <td>0.0</td>\n",
       "      <td>0.0</td>\n",
       "      <td>0.0</td>\n",
       "      <td>0.0</td>\n",
       "      <td>0.0</td>\n",
       "      <td>0.0</td>\n",
       "      <td>0.0</td>\n",
       "      <td>0.0</td>\n",
       "    </tr>\n",
       "    <tr>\n",
       "      <th>39</th>\n",
       "      <td>0.0</td>\n",
       "      <td>0.0</td>\n",
       "      <td>1.0</td>\n",
       "      <td>1.0</td>\n",
       "      <td>0.0</td>\n",
       "      <td>0.0</td>\n",
       "      <td>0.0</td>\n",
       "      <td>1.0</td>\n",
       "      <td>0.0</td>\n",
       "      <td>0.0</td>\n",
       "      <td>...</td>\n",
       "      <td>0.0</td>\n",
       "      <td>0.0</td>\n",
       "      <td>0.0</td>\n",
       "      <td>0.0</td>\n",
       "      <td>0.0</td>\n",
       "      <td>0.0</td>\n",
       "      <td>0.0</td>\n",
       "      <td>0.0</td>\n",
       "      <td>0.0</td>\n",
       "      <td>0.0</td>\n",
       "    </tr>\n",
       "    <tr>\n",
       "      <th>43</th>\n",
       "      <td>1.0</td>\n",
       "      <td>0.0</td>\n",
       "      <td>0.0</td>\n",
       "      <td>0.0</td>\n",
       "      <td>1.0</td>\n",
       "      <td>1.0</td>\n",
       "      <td>1.0</td>\n",
       "      <td>0.0</td>\n",
       "      <td>0.0</td>\n",
       "      <td>0.0</td>\n",
       "      <td>...</td>\n",
       "      <td>0.0</td>\n",
       "      <td>0.0</td>\n",
       "      <td>0.0</td>\n",
       "      <td>0.0</td>\n",
       "      <td>0.0</td>\n",
       "      <td>0.0</td>\n",
       "      <td>0.0</td>\n",
       "      <td>0.0</td>\n",
       "      <td>0.0</td>\n",
       "      <td>0.0</td>\n",
       "    </tr>\n",
       "  </tbody>\n",
       "</table>\n",
       "<p>5 rows × 94 columns</p>\n",
       "</div>"
      ],
      "text/plain": [
       "movieId  13      32      36      39      43      62      146     150     \\\n",
       "movieId                                                                   \n",
       "13          1.0     0.0     0.0     0.0     1.0     1.0     1.0     0.0   \n",
       "32          0.0     1.0     0.0     0.0     0.0     0.0     0.0     0.0   \n",
       "36          0.0     0.0     1.0     1.0     0.0     0.0     0.0     1.0   \n",
       "39          0.0     0.0     1.0     1.0     0.0     0.0     0.0     1.0   \n",
       "43          1.0     0.0     0.0     0.0     1.0     1.0     1.0     0.0   \n",
       "\n",
       "movieId  153     157     ...  74458   77455   80906   84374   88810   97938   \\\n",
       "movieId                  ...                                                   \n",
       "13          0.0     0.0  ...     0.0     0.0     0.0     0.0     0.0     0.0   \n",
       "32          1.0     0.0  ...     0.0     0.0     0.0     0.0     0.0     0.0   \n",
       "36          0.0     0.0  ...     0.0     0.0     0.0     0.0     0.0     0.0   \n",
       "39          0.0     0.0  ...     0.0     0.0     0.0     0.0     0.0     0.0   \n",
       "43          0.0     0.0  ...     0.0     0.0     0.0     0.0     0.0     0.0   \n",
       "\n",
       "movieId  99114   106782  115713  122882  \n",
       "movieId                                  \n",
       "13          0.0     0.0     0.0     0.0  \n",
       "32          0.0     0.0     0.0     0.0  \n",
       "36          0.0     0.0     0.0     0.0  \n",
       "39          0.0     0.0     0.0     0.0  \n",
       "43          0.0     0.0     0.0     0.0  \n",
       "\n",
       "[5 rows x 94 columns]"
      ]
     },
     "execution_count": 6,
     "metadata": {},
     "output_type": "execute_result"
    }
   ],
   "source": [
    "ii_similarity_matrix = cosine_similarity(ui_matrix.T)\n",
    "ii_similarity_matrix = pd.DataFrame(ii_similarity_matrix, index=ui_matrix.columns, columns=ui_matrix.columns)\n",
    "ii_similarity_matrix.head()"
   ]
  },
  {
   "cell_type": "code",
   "execution_count": 7,
   "metadata": {},
   "outputs": [
    {
     "data": {
      "text/plain": [
       "(94, 94)"
      ]
     },
     "execution_count": 7,
     "metadata": {},
     "output_type": "execute_result"
    }
   ],
   "source": [
    "ii_similarity_matrix.shape"
   ]
  },
  {
   "cell_type": "markdown",
   "metadata": {},
   "source": [
    "## **3. Sparse Linear Method(SLIM)**"
   ]
  },
  {
   "cell_type": "markdown",
   "metadata": {},
   "source": [
    "### **3.1 Defining the SLIM Function**"
   ]
  },
  {
   "cell_type": "code",
   "execution_count": 8,
   "metadata": {},
   "outputs": [],
   "source": [
    "import numpy as np\n",
    "import pandas as pd\n",
    "from sklearn.linear_model import ElasticNet\n",
    "from scipy.sparse import csr_matrix\n",
    "\n",
    "def slim_fit(R, lambda_1=0.1, lambda_2=0.1, max_iter=100, tol=1e-4, w_round=5, r_round=5, positive=True):\n",
    "    \"\"\"\n",
    "    Fits the SLIM model to learn the sparse item-to-item similarity matrix W.\n",
    "\n",
    "    Parameters:\n",
    "    -------------------------------------------------------------------------\n",
    "    R : array-like (dense or sparse)\n",
    "        User-item interaction matrix of shape (m, n), where 'm' is the number \n",
    "        of users and 'n' is the number of items.\n",
    "    lambda_1 : float, default=0.1\n",
    "        Regularization parameter for the L2-norm, controlling stability.\n",
    "    lambda_2 : float, default=0.1\n",
    "        Regularization parameter for the L1-norm, controlling sparsity.\n",
    "    max_iter : int, optional, default=100\n",
    "        Maximum number of iterations for the optimization algorithm.\n",
    "    tol : float, optional, default=1e-4\n",
    "        Tolerance for convergence of the optimization algorithm.\n",
    "    w_round : int, optional, default=5\n",
    "        Number of decimal places to round the similarities in W.\n",
    "    r_round : int, optional, default=5\n",
    "        Number of decimal places to round the predicted ratings in R_hat.\n",
    "    positive : bool, optional, default=True\n",
    "        If True, ensures the learned weights (similarities) in W are non-negative.\n",
    "\n",
    "    Returns:\n",
    "    -------------------------------------------------------------------------\n",
    "    W : ndarray of shape (n, n)\n",
    "        Sparse item-to-item similarity matrix, where each entry represents the learned similarity between items.\n",
    "    R_hat : ndarray of shape (m, n)\n",
    "        Predicted user-item interaction matrix, where each entry represents the estimated rating of a user for an item.\n",
    "    \"\"\"\n",
    "    # Ensure R is a NumPy array\n",
    "    if not isinstance(R, (np.ndarray, csr_matrix)):\n",
    "        raise TypeError(\"Input data is not a valid type. Convert user-item interaction matrix into a NumPy array or a SciPy sparse matrix.\")\n",
    "\n",
    "    if isinstance(R, csr_matrix):\n",
    "        R = R.toarray()  # Convert sparse matrix to NumPy array\n",
    "    \n",
    "    n_items = R.shape[1]  # Number of items\n",
    "    W = np.zeros((n_items, n_items))  # Initialize similarity matrix\n",
    "    \n",
    "    # Loop over each item to compute similarity\n",
    "    for i in range(n_items):\n",
    "        # Target vector (ratings for item i)\n",
    "        target = R[:, i]\n",
    "\n",
    "        # Feature matrix (other items' ratings)\n",
    "        X = np.delete(R, i, axis=1)\n",
    "\n",
    "        # Fit ElasticNet model\n",
    "        model = ElasticNet(\n",
    "            alpha=lambda_1 + lambda_2,\n",
    "            l1_ratio=lambda_1 / (lambda_1 + lambda_2),\n",
    "            max_iter=max_iter,\n",
    "            tol=tol,\n",
    "            fit_intercept=False,\n",
    "            positive=positive\n",
    "        )\n",
    "        model.fit(X, target)\n",
    "\n",
    "        # Insert coefficients into W matrix\n",
    "        W[i, :] = np.insert(model.coef_, i, 0)  # Self-similarity = 0\n",
    "\n",
    "    W = np.round(W, w_round)\n",
    "\n",
    "    # Compute predicted ratings\n",
    "    R_hat = R @ W  # Predicted user-item matrix\n",
    "\n",
    "    # Round predicted ratings to the specified decimal places\n",
    "    R_hat = np.round(R_hat, r_round)\n",
    "\n",
    "    return W, R_hat"
   ]
  },
  {
   "cell_type": "markdown",
   "metadata": {},
   "source": [
    "### **3.2 Performing SLIM**"
   ]
  },
  {
   "cell_type": "code",
   "execution_count": 9,
   "metadata": {},
   "outputs": [],
   "source": [
    "W, R_hat = slim_fit(ui_matrix.values, lambda_1=0.4, lambda_2=0.3, max_iter=1000)\n",
    "\n",
    "# Convert outputs to DataFrames for interpretation\n",
    "W = pd.DataFrame(W, index=ui_matrix.columns, columns=ui_matrix.columns)\n",
    "R_hat = pd.DataFrame(R_hat, index=ui_matrix.index, columns=ui_matrix.columns)"
   ]
  },
  {
   "cell_type": "markdown",
   "metadata": {},
   "source": [
    "### **3.3 Comparing the `item-item` matrices**"
   ]
  },
  {
   "cell_type": "code",
   "execution_count": 10,
   "metadata": {},
   "outputs": [
    {
     "data": {
      "text/html": [
       "<div>\n",
       "<style scoped>\n",
       "    .dataframe tbody tr th:only-of-type {\n",
       "        vertical-align: middle;\n",
       "    }\n",
       "\n",
       "    .dataframe tbody tr th {\n",
       "        vertical-align: top;\n",
       "    }\n",
       "\n",
       "    .dataframe thead th {\n",
       "        text-align: right;\n",
       "    }\n",
       "</style>\n",
       "<table border=\"1\" class=\"dataframe\">\n",
       "  <thead>\n",
       "    <tr style=\"text-align: right;\">\n",
       "      <th>movieId</th>\n",
       "      <th>13</th>\n",
       "      <th>32</th>\n",
       "      <th>36</th>\n",
       "      <th>39</th>\n",
       "      <th>43</th>\n",
       "      <th>62</th>\n",
       "      <th>146</th>\n",
       "      <th>150</th>\n",
       "      <th>153</th>\n",
       "      <th>157</th>\n",
       "      <th>...</th>\n",
       "      <th>74458</th>\n",
       "      <th>77455</th>\n",
       "      <th>80906</th>\n",
       "      <th>84374</th>\n",
       "      <th>88810</th>\n",
       "      <th>97938</th>\n",
       "      <th>99114</th>\n",
       "      <th>106782</th>\n",
       "      <th>115713</th>\n",
       "      <th>122882</th>\n",
       "    </tr>\n",
       "    <tr>\n",
       "      <th>movieId</th>\n",
       "      <th></th>\n",
       "      <th></th>\n",
       "      <th></th>\n",
       "      <th></th>\n",
       "      <th></th>\n",
       "      <th></th>\n",
       "      <th></th>\n",
       "      <th></th>\n",
       "      <th></th>\n",
       "      <th></th>\n",
       "      <th></th>\n",
       "      <th></th>\n",
       "      <th></th>\n",
       "      <th></th>\n",
       "      <th></th>\n",
       "      <th></th>\n",
       "      <th></th>\n",
       "      <th></th>\n",
       "      <th></th>\n",
       "      <th></th>\n",
       "      <th></th>\n",
       "    </tr>\n",
       "  </thead>\n",
       "  <tbody>\n",
       "    <tr>\n",
       "      <th>13</th>\n",
       "      <td>0.0</td>\n",
       "      <td>0.0</td>\n",
       "      <td>0.00000</td>\n",
       "      <td>0.0</td>\n",
       "      <td>0.08085</td>\n",
       "      <td>0.08084</td>\n",
       "      <td>0.08079</td>\n",
       "      <td>0.0</td>\n",
       "      <td>0.0</td>\n",
       "      <td>0.0</td>\n",
       "      <td>...</td>\n",
       "      <td>0.0</td>\n",
       "      <td>0.0</td>\n",
       "      <td>0.0</td>\n",
       "      <td>0.0</td>\n",
       "      <td>0.0</td>\n",
       "      <td>0.0</td>\n",
       "      <td>0.0</td>\n",
       "      <td>0.0</td>\n",
       "      <td>0.0</td>\n",
       "      <td>0.0</td>\n",
       "    </tr>\n",
       "    <tr>\n",
       "      <th>32</th>\n",
       "      <td>0.0</td>\n",
       "      <td>0.0</td>\n",
       "      <td>0.00000</td>\n",
       "      <td>0.0</td>\n",
       "      <td>0.00000</td>\n",
       "      <td>0.00000</td>\n",
       "      <td>0.00000</td>\n",
       "      <td>0.0</td>\n",
       "      <td>0.0</td>\n",
       "      <td>0.0</td>\n",
       "      <td>...</td>\n",
       "      <td>0.0</td>\n",
       "      <td>0.0</td>\n",
       "      <td>0.0</td>\n",
       "      <td>0.0</td>\n",
       "      <td>0.0</td>\n",
       "      <td>0.0</td>\n",
       "      <td>0.0</td>\n",
       "      <td>0.0</td>\n",
       "      <td>0.0</td>\n",
       "      <td>0.0</td>\n",
       "    </tr>\n",
       "    <tr>\n",
       "      <th>36</th>\n",
       "      <td>0.0</td>\n",
       "      <td>0.0</td>\n",
       "      <td>0.00000</td>\n",
       "      <td>0.0</td>\n",
       "      <td>0.00000</td>\n",
       "      <td>0.00000</td>\n",
       "      <td>0.00000</td>\n",
       "      <td>0.0</td>\n",
       "      <td>0.0</td>\n",
       "      <td>0.0</td>\n",
       "      <td>...</td>\n",
       "      <td>0.0</td>\n",
       "      <td>0.0</td>\n",
       "      <td>0.0</td>\n",
       "      <td>0.0</td>\n",
       "      <td>0.0</td>\n",
       "      <td>0.0</td>\n",
       "      <td>0.0</td>\n",
       "      <td>0.0</td>\n",
       "      <td>0.0</td>\n",
       "      <td>0.0</td>\n",
       "    </tr>\n",
       "    <tr>\n",
       "      <th>39</th>\n",
       "      <td>0.0</td>\n",
       "      <td>0.0</td>\n",
       "      <td>0.14025</td>\n",
       "      <td>0.0</td>\n",
       "      <td>0.00000</td>\n",
       "      <td>0.00000</td>\n",
       "      <td>0.00000</td>\n",
       "      <td>0.0</td>\n",
       "      <td>0.0</td>\n",
       "      <td>0.0</td>\n",
       "      <td>...</td>\n",
       "      <td>0.0</td>\n",
       "      <td>0.0</td>\n",
       "      <td>0.0</td>\n",
       "      <td>0.0</td>\n",
       "      <td>0.0</td>\n",
       "      <td>0.0</td>\n",
       "      <td>0.0</td>\n",
       "      <td>0.0</td>\n",
       "      <td>0.0</td>\n",
       "      <td>0.0</td>\n",
       "    </tr>\n",
       "    <tr>\n",
       "      <th>43</th>\n",
       "      <td>0.0</td>\n",
       "      <td>0.0</td>\n",
       "      <td>0.00000</td>\n",
       "      <td>0.0</td>\n",
       "      <td>0.00000</td>\n",
       "      <td>0.14454</td>\n",
       "      <td>0.14452</td>\n",
       "      <td>0.0</td>\n",
       "      <td>0.0</td>\n",
       "      <td>0.0</td>\n",
       "      <td>...</td>\n",
       "      <td>0.0</td>\n",
       "      <td>0.0</td>\n",
       "      <td>0.0</td>\n",
       "      <td>0.0</td>\n",
       "      <td>0.0</td>\n",
       "      <td>0.0</td>\n",
       "      <td>0.0</td>\n",
       "      <td>0.0</td>\n",
       "      <td>0.0</td>\n",
       "      <td>0.0</td>\n",
       "    </tr>\n",
       "  </tbody>\n",
       "</table>\n",
       "<p>5 rows × 94 columns</p>\n",
       "</div>"
      ],
      "text/plain": [
       "movieId  13      32       36      39       43       62       146     150     \\\n",
       "movieId                                                                       \n",
       "13          0.0     0.0  0.00000     0.0  0.08085  0.08084  0.08079     0.0   \n",
       "32          0.0     0.0  0.00000     0.0  0.00000  0.00000  0.00000     0.0   \n",
       "36          0.0     0.0  0.00000     0.0  0.00000  0.00000  0.00000     0.0   \n",
       "39          0.0     0.0  0.14025     0.0  0.00000  0.00000  0.00000     0.0   \n",
       "43          0.0     0.0  0.00000     0.0  0.00000  0.14454  0.14452     0.0   \n",
       "\n",
       "movieId  153     157     ...  74458   77455   80906   84374   88810   97938   \\\n",
       "movieId                  ...                                                   \n",
       "13          0.0     0.0  ...     0.0     0.0     0.0     0.0     0.0     0.0   \n",
       "32          0.0     0.0  ...     0.0     0.0     0.0     0.0     0.0     0.0   \n",
       "36          0.0     0.0  ...     0.0     0.0     0.0     0.0     0.0     0.0   \n",
       "39          0.0     0.0  ...     0.0     0.0     0.0     0.0     0.0     0.0   \n",
       "43          0.0     0.0  ...     0.0     0.0     0.0     0.0     0.0     0.0   \n",
       "\n",
       "movieId  99114   106782  115713  122882  \n",
       "movieId                                  \n",
       "13          0.0     0.0     0.0     0.0  \n",
       "32          0.0     0.0     0.0     0.0  \n",
       "36          0.0     0.0     0.0     0.0  \n",
       "39          0.0     0.0     0.0     0.0  \n",
       "43          0.0     0.0     0.0     0.0  \n",
       "\n",
       "[5 rows x 94 columns]"
      ]
     },
     "execution_count": 10,
     "metadata": {},
     "output_type": "execute_result"
    }
   ],
   "source": [
    "# printing SLIM item-item matrix\n",
    "W.head()"
   ]
  },
  {
   "cell_type": "code",
   "execution_count": 11,
   "metadata": {},
   "outputs": [
    {
     "name": "stdout",
     "output_type": "stream",
     "text": [
      "Max Similarity: 0.68452\n",
      "Min Similarity: 0.0\n"
     ]
    }
   ],
   "source": [
    "# max and min similarities\n",
    "max_sim = max(W.values.flatten())\n",
    "min_sim = min(W.values.flatten())\n",
    "print(f'Max Similarity: {max_sim}')\n",
    "print(f'Min Similarity: {min_sim}')"
   ]
  },
  {
   "cell_type": "code",
   "execution_count": 12,
   "metadata": {},
   "outputs": [
    {
     "data": {
      "text/html": [
       "<div>\n",
       "<style scoped>\n",
       "    .dataframe tbody tr th:only-of-type {\n",
       "        vertical-align: middle;\n",
       "    }\n",
       "\n",
       "    .dataframe tbody tr th {\n",
       "        vertical-align: top;\n",
       "    }\n",
       "\n",
       "    .dataframe thead th {\n",
       "        text-align: right;\n",
       "    }\n",
       "</style>\n",
       "<table border=\"1\" class=\"dataframe\">\n",
       "  <thead>\n",
       "    <tr style=\"text-align: right;\">\n",
       "      <th>movieId</th>\n",
       "      <th>13</th>\n",
       "      <th>32</th>\n",
       "      <th>36</th>\n",
       "      <th>39</th>\n",
       "      <th>43</th>\n",
       "      <th>62</th>\n",
       "      <th>146</th>\n",
       "      <th>150</th>\n",
       "      <th>153</th>\n",
       "      <th>157</th>\n",
       "      <th>...</th>\n",
       "      <th>74458</th>\n",
       "      <th>77455</th>\n",
       "      <th>80906</th>\n",
       "      <th>84374</th>\n",
       "      <th>88810</th>\n",
       "      <th>97938</th>\n",
       "      <th>99114</th>\n",
       "      <th>106782</th>\n",
       "      <th>115713</th>\n",
       "      <th>122882</th>\n",
       "    </tr>\n",
       "    <tr>\n",
       "      <th>movieId</th>\n",
       "      <th></th>\n",
       "      <th></th>\n",
       "      <th></th>\n",
       "      <th></th>\n",
       "      <th></th>\n",
       "      <th></th>\n",
       "      <th></th>\n",
       "      <th></th>\n",
       "      <th></th>\n",
       "      <th></th>\n",
       "      <th></th>\n",
       "      <th></th>\n",
       "      <th></th>\n",
       "      <th></th>\n",
       "      <th></th>\n",
       "      <th></th>\n",
       "      <th></th>\n",
       "      <th></th>\n",
       "      <th></th>\n",
       "      <th></th>\n",
       "      <th></th>\n",
       "    </tr>\n",
       "  </thead>\n",
       "  <tbody>\n",
       "    <tr>\n",
       "      <th>13</th>\n",
       "      <td>1.0</td>\n",
       "      <td>0.0</td>\n",
       "      <td>0.0</td>\n",
       "      <td>0.0</td>\n",
       "      <td>1.0</td>\n",
       "      <td>1.0</td>\n",
       "      <td>1.0</td>\n",
       "      <td>0.0</td>\n",
       "      <td>0.0</td>\n",
       "      <td>0.0</td>\n",
       "      <td>...</td>\n",
       "      <td>0.0</td>\n",
       "      <td>0.0</td>\n",
       "      <td>0.0</td>\n",
       "      <td>0.0</td>\n",
       "      <td>0.0</td>\n",
       "      <td>0.0</td>\n",
       "      <td>0.0</td>\n",
       "      <td>0.0</td>\n",
       "      <td>0.0</td>\n",
       "      <td>0.0</td>\n",
       "    </tr>\n",
       "    <tr>\n",
       "      <th>32</th>\n",
       "      <td>0.0</td>\n",
       "      <td>1.0</td>\n",
       "      <td>0.0</td>\n",
       "      <td>0.0</td>\n",
       "      <td>0.0</td>\n",
       "      <td>0.0</td>\n",
       "      <td>0.0</td>\n",
       "      <td>0.0</td>\n",
       "      <td>1.0</td>\n",
       "      <td>0.0</td>\n",
       "      <td>...</td>\n",
       "      <td>0.0</td>\n",
       "      <td>0.0</td>\n",
       "      <td>0.0</td>\n",
       "      <td>0.0</td>\n",
       "      <td>0.0</td>\n",
       "      <td>0.0</td>\n",
       "      <td>0.0</td>\n",
       "      <td>0.0</td>\n",
       "      <td>0.0</td>\n",
       "      <td>0.0</td>\n",
       "    </tr>\n",
       "    <tr>\n",
       "      <th>36</th>\n",
       "      <td>0.0</td>\n",
       "      <td>0.0</td>\n",
       "      <td>1.0</td>\n",
       "      <td>1.0</td>\n",
       "      <td>0.0</td>\n",
       "      <td>0.0</td>\n",
       "      <td>0.0</td>\n",
       "      <td>1.0</td>\n",
       "      <td>0.0</td>\n",
       "      <td>0.0</td>\n",
       "      <td>...</td>\n",
       "      <td>0.0</td>\n",
       "      <td>0.0</td>\n",
       "      <td>0.0</td>\n",
       "      <td>0.0</td>\n",
       "      <td>0.0</td>\n",
       "      <td>0.0</td>\n",
       "      <td>0.0</td>\n",
       "      <td>0.0</td>\n",
       "      <td>0.0</td>\n",
       "      <td>0.0</td>\n",
       "    </tr>\n",
       "    <tr>\n",
       "      <th>39</th>\n",
       "      <td>0.0</td>\n",
       "      <td>0.0</td>\n",
       "      <td>1.0</td>\n",
       "      <td>1.0</td>\n",
       "      <td>0.0</td>\n",
       "      <td>0.0</td>\n",
       "      <td>0.0</td>\n",
       "      <td>1.0</td>\n",
       "      <td>0.0</td>\n",
       "      <td>0.0</td>\n",
       "      <td>...</td>\n",
       "      <td>0.0</td>\n",
       "      <td>0.0</td>\n",
       "      <td>0.0</td>\n",
       "      <td>0.0</td>\n",
       "      <td>0.0</td>\n",
       "      <td>0.0</td>\n",
       "      <td>0.0</td>\n",
       "      <td>0.0</td>\n",
       "      <td>0.0</td>\n",
       "      <td>0.0</td>\n",
       "    </tr>\n",
       "    <tr>\n",
       "      <th>43</th>\n",
       "      <td>1.0</td>\n",
       "      <td>0.0</td>\n",
       "      <td>0.0</td>\n",
       "      <td>0.0</td>\n",
       "      <td>1.0</td>\n",
       "      <td>1.0</td>\n",
       "      <td>1.0</td>\n",
       "      <td>0.0</td>\n",
       "      <td>0.0</td>\n",
       "      <td>0.0</td>\n",
       "      <td>...</td>\n",
       "      <td>0.0</td>\n",
       "      <td>0.0</td>\n",
       "      <td>0.0</td>\n",
       "      <td>0.0</td>\n",
       "      <td>0.0</td>\n",
       "      <td>0.0</td>\n",
       "      <td>0.0</td>\n",
       "      <td>0.0</td>\n",
       "      <td>0.0</td>\n",
       "      <td>0.0</td>\n",
       "    </tr>\n",
       "  </tbody>\n",
       "</table>\n",
       "<p>5 rows × 94 columns</p>\n",
       "</div>"
      ],
      "text/plain": [
       "movieId  13      32      36      39      43      62      146     150     \\\n",
       "movieId                                                                   \n",
       "13          1.0     0.0     0.0     0.0     1.0     1.0     1.0     0.0   \n",
       "32          0.0     1.0     0.0     0.0     0.0     0.0     0.0     0.0   \n",
       "36          0.0     0.0     1.0     1.0     0.0     0.0     0.0     1.0   \n",
       "39          0.0     0.0     1.0     1.0     0.0     0.0     0.0     1.0   \n",
       "43          1.0     0.0     0.0     0.0     1.0     1.0     1.0     0.0   \n",
       "\n",
       "movieId  153     157     ...  74458   77455   80906   84374   88810   97938   \\\n",
       "movieId                  ...                                                   \n",
       "13          0.0     0.0  ...     0.0     0.0     0.0     0.0     0.0     0.0   \n",
       "32          1.0     0.0  ...     0.0     0.0     0.0     0.0     0.0     0.0   \n",
       "36          0.0     0.0  ...     0.0     0.0     0.0     0.0     0.0     0.0   \n",
       "39          0.0     0.0  ...     0.0     0.0     0.0     0.0     0.0     0.0   \n",
       "43          0.0     0.0  ...     0.0     0.0     0.0     0.0     0.0     0.0   \n",
       "\n",
       "movieId  99114   106782  115713  122882  \n",
       "movieId                                  \n",
       "13          0.0     0.0     0.0     0.0  \n",
       "32          0.0     0.0     0.0     0.0  \n",
       "36          0.0     0.0     0.0     0.0  \n",
       "39          0.0     0.0     0.0     0.0  \n",
       "43          0.0     0.0     0.0     0.0  \n",
       "\n",
       "[5 rows x 94 columns]"
      ]
     },
     "execution_count": 12,
     "metadata": {},
     "output_type": "execute_result"
    }
   ],
   "source": [
    "# printing cosine item-item matrix\n",
    "ii_similarity_matrix.head()"
   ]
  },
  {
   "cell_type": "code",
   "execution_count": 13,
   "metadata": {},
   "outputs": [
    {
     "name": "stdout",
     "output_type": "stream",
     "text": [
      "Max Similarity: 0.9999999999999998\n",
      "Min Similarity: 0.0\n"
     ]
    }
   ],
   "source": [
    "# max and min similarities\n",
    "flattened_values = ii_similarity_matrix.values.flatten()\n",
    "flattened_values_no_diag = flattened_values[flattened_values != 1]\n",
    "max_sim = max(flattened_values_no_diag)\n",
    "\n",
    "min_sim = min(ii_similarity_matrix.values.flatten())\n",
    "\n",
    "print(f'Max Similarity: {max_sim}')\n",
    "print(f'Min Similarity: {min_sim}')"
   ]
  },
  {
   "cell_type": "markdown",
   "metadata": {},
   "source": [
    "### **3.3 What does the max values signify?**\n",
    "\n",
    "- If `SLIM’s` similarity values are lower than cosine similarity’s, it may imply that SLIM is being more conservative <br>\n",
    "  in estimating relationships between items, potentially ignoring weak or non-informative correlations.\n",
    "\n",
    "- The `cosine` similarity matrix may show higher similarity values because it is not regularized and doesn't prioritize<br>\n",
    "  meaningful correlations over noise. Therefore, it may overestimate the similarity between items that are not strongly<br>\n",
    "  related but share some common ratings due to many users.\n",
    "\n",
    "**`NOTE`** The main advantage of `SLIM` over `Cosine` is that we have parameters that can control the similarities of <br>\n",
    "           the items, whereas Cosine lacks that."
   ]
  },
  {
   "cell_type": "markdown",
   "metadata": {},
   "source": [
    "### **3.4 Plotting Various max `similarities` while tuning λ1 and λ2**"
   ]
  },
  {
   "cell_type": "code",
   "execution_count": 14,
   "metadata": {},
   "outputs": [
    {
     "data": {
      "image/png": "[encoded data removed]",
      "text/plain": [
       "<Figure size 800x600 with 2 Axes>"
      ]
     },
     "metadata": {},
     "output_type": "display_data"
    }
   ],
   "source": [
    "import matplotlib.pyplot as plt\n",
    "\n",
    "# Initialize a matrix to store similarity values\n",
    "lambda_1_values = np.round(np.arange(0.1, 1, 0.1),2)\n",
    "lambda_2_values = np.round(np.arange(0.1, 1, 0.1),2)\n",
    "similarity_matrix = np.zeros((len(lambda_1_values), len(lambda_2_values)))\n",
    "\n",
    "# Perform the tuning and store the results\n",
    "for i, l1_value in enumerate(lambda_1_values):\n",
    "    for j, l2_value in enumerate(lambda_2_values):\n",
    "        W, _ = slim_fit(ui_matrix.values, lambda_1=l1_value, lambda_2=l2_value, max_iter=10000)\n",
    "        max_sim = max(W.flatten())\n",
    "        similarity_matrix[i, j] = max_sim  # Store the max similarity score\n",
    "\n",
    "# Plotting the heatmap\n",
    "plt.figure(figsize=(8, 6))\n",
    "plt.imshow(similarity_matrix, interpolation='nearest', cmap='coolwarm', aspect='auto')\n",
    "plt.colorbar(label=\"Max Similarity Score\")\n",
    "plt.xticks(np.arange(len(lambda_2_values)), lambda_2_values)  # Set x-axis for lambda_2\n",
    "plt.yticks(np.arange(len(lambda_1_values)), lambda_1_values)  # Set y-axis for lambda_1\n",
    "plt.xlabel('λ2 Values')\n",
    "plt.ylabel('λ1 Values')\n",
    "plt.title('Heatmap of Maximum Similarity Scores (SLIM Hyperparameter Tuning)')\n",
    "plt.show()"
   ]
  },
  {
   "cell_type": "markdown",
   "metadata": {},
   "source": [
    "**`ANALYSIS`**: The greater the value of similarity score is to 1, the greater is the overfitting and the lesser the value, the more is the under fitting! So, the worst combinations are `λ1 = 0.4` <-> `λ2 = 0.1` and `λ1 = 0.1` <-> `λ2 = 0.9`. This tradeoff needs to be implemented as per requirement."
   ]
  },
  {
   "cell_type": "markdown",
   "metadata": {},
   "source": [
    "### **3.5 Error comparision on `Cosine` vs `SLIM` Matrices**"
   ]
  },
  {
   "cell_type": "code",
   "execution_count": 15,
   "metadata": {},
   "outputs": [
    {
     "data": {
      "text/html": [
       "<div>\n",
       "<style scoped>\n",
       "    .dataframe tbody tr th:only-of-type {\n",
       "        vertical-align: middle;\n",
       "    }\n",
       "\n",
       "    .dataframe tbody tr th {\n",
       "        vertical-align: top;\n",
       "    }\n",
       "\n",
       "    .dataframe thead th {\n",
       "        text-align: right;\n",
       "    }\n",
       "</style>\n",
       "<table border=\"1\" class=\"dataframe\">\n",
       "  <thead>\n",
       "    <tr style=\"text-align: right;\">\n",
       "      <th>movieId</th>\n",
       "      <th>13</th>\n",
       "      <th>32</th>\n",
       "      <th>36</th>\n",
       "      <th>39</th>\n",
       "      <th>43</th>\n",
       "      <th>62</th>\n",
       "      <th>146</th>\n",
       "      <th>150</th>\n",
       "      <th>153</th>\n",
       "      <th>157</th>\n",
       "      <th>...</th>\n",
       "      <th>74458</th>\n",
       "      <th>77455</th>\n",
       "      <th>80906</th>\n",
       "      <th>84374</th>\n",
       "      <th>88810</th>\n",
       "      <th>97938</th>\n",
       "      <th>99114</th>\n",
       "      <th>106782</th>\n",
       "      <th>115713</th>\n",
       "      <th>122882</th>\n",
       "    </tr>\n",
       "    <tr>\n",
       "      <th>userId</th>\n",
       "      <th></th>\n",
       "      <th></th>\n",
       "      <th></th>\n",
       "      <th></th>\n",
       "      <th></th>\n",
       "      <th></th>\n",
       "      <th></th>\n",
       "      <th></th>\n",
       "      <th></th>\n",
       "      <th></th>\n",
       "      <th></th>\n",
       "      <th></th>\n",
       "      <th></th>\n",
       "      <th></th>\n",
       "      <th></th>\n",
       "      <th></th>\n",
       "      <th></th>\n",
       "      <th></th>\n",
       "      <th></th>\n",
       "      <th></th>\n",
       "      <th></th>\n",
       "    </tr>\n",
       "  </thead>\n",
       "  <tbody>\n",
       "    <tr>\n",
       "      <th>1</th>\n",
       "      <td>0.0</td>\n",
       "      <td>0.0</td>\n",
       "      <td>0.00000</td>\n",
       "      <td>0.0</td>\n",
       "      <td>0.0</td>\n",
       "      <td>0.0</td>\n",
       "      <td>0.0</td>\n",
       "      <td>0.0</td>\n",
       "      <td>0.0</td>\n",
       "      <td>6.62671</td>\n",
       "      <td>...</td>\n",
       "      <td>0.0</td>\n",
       "      <td>0.0</td>\n",
       "      <td>0.00000</td>\n",
       "      <td>0.0</td>\n",
       "      <td>0.0</td>\n",
       "      <td>0.0</td>\n",
       "      <td>0.0</td>\n",
       "      <td>0.00000</td>\n",
       "      <td>0.0</td>\n",
       "      <td>0.00000</td>\n",
       "    </tr>\n",
       "    <tr>\n",
       "      <th>2</th>\n",
       "      <td>0.0</td>\n",
       "      <td>0.0</td>\n",
       "      <td>0.00000</td>\n",
       "      <td>0.0</td>\n",
       "      <td>0.0</td>\n",
       "      <td>0.0</td>\n",
       "      <td>0.0</td>\n",
       "      <td>0.0</td>\n",
       "      <td>0.0</td>\n",
       "      <td>0.00000</td>\n",
       "      <td>...</td>\n",
       "      <td>0.0</td>\n",
       "      <td>0.0</td>\n",
       "      <td>6.30076</td>\n",
       "      <td>0.0</td>\n",
       "      <td>0.0</td>\n",
       "      <td>0.0</td>\n",
       "      <td>0.0</td>\n",
       "      <td>6.30139</td>\n",
       "      <td>0.0</td>\n",
       "      <td>6.29975</td>\n",
       "    </tr>\n",
       "    <tr>\n",
       "      <th>3</th>\n",
       "      <td>0.0</td>\n",
       "      <td>0.0</td>\n",
       "      <td>0.00000</td>\n",
       "      <td>0.0</td>\n",
       "      <td>0.0</td>\n",
       "      <td>0.0</td>\n",
       "      <td>0.0</td>\n",
       "      <td>0.0</td>\n",
       "      <td>0.0</td>\n",
       "      <td>0.00000</td>\n",
       "      <td>...</td>\n",
       "      <td>0.0</td>\n",
       "      <td>0.0</td>\n",
       "      <td>0.00000</td>\n",
       "      <td>0.0</td>\n",
       "      <td>0.0</td>\n",
       "      <td>0.0</td>\n",
       "      <td>0.0</td>\n",
       "      <td>0.00000</td>\n",
       "      <td>0.0</td>\n",
       "      <td>0.00000</td>\n",
       "    </tr>\n",
       "    <tr>\n",
       "      <th>4</th>\n",
       "      <td>0.0</td>\n",
       "      <td>0.0</td>\n",
       "      <td>0.00000</td>\n",
       "      <td>0.0</td>\n",
       "      <td>0.0</td>\n",
       "      <td>0.0</td>\n",
       "      <td>0.0</td>\n",
       "      <td>0.0</td>\n",
       "      <td>0.0</td>\n",
       "      <td>0.00000</td>\n",
       "      <td>...</td>\n",
       "      <td>0.0</td>\n",
       "      <td>0.0</td>\n",
       "      <td>0.00000</td>\n",
       "      <td>0.0</td>\n",
       "      <td>0.0</td>\n",
       "      <td>0.0</td>\n",
       "      <td>0.0</td>\n",
       "      <td>0.00000</td>\n",
       "      <td>0.0</td>\n",
       "      <td>0.00000</td>\n",
       "    </tr>\n",
       "    <tr>\n",
       "      <th>5</th>\n",
       "      <td>0.0</td>\n",
       "      <td>0.0</td>\n",
       "      <td>6.96549</td>\n",
       "      <td>0.0</td>\n",
       "      <td>0.0</td>\n",
       "      <td>0.0</td>\n",
       "      <td>0.0</td>\n",
       "      <td>0.0</td>\n",
       "      <td>0.0</td>\n",
       "      <td>0.00000</td>\n",
       "      <td>...</td>\n",
       "      <td>0.0</td>\n",
       "      <td>0.0</td>\n",
       "      <td>0.00000</td>\n",
       "      <td>0.0</td>\n",
       "      <td>0.0</td>\n",
       "      <td>0.0</td>\n",
       "      <td>0.0</td>\n",
       "      <td>0.00000</td>\n",
       "      <td>0.0</td>\n",
       "      <td>0.00000</td>\n",
       "    </tr>\n",
       "  </tbody>\n",
       "</table>\n",
       "<p>5 rows × 94 columns</p>\n",
       "</div>"
      ],
      "text/plain": [
       "movieId  13      32       36      39      43      62      146     150     \\\n",
       "userId                                                                     \n",
       "1           0.0     0.0  0.00000     0.0     0.0     0.0     0.0     0.0   \n",
       "2           0.0     0.0  0.00000     0.0     0.0     0.0     0.0     0.0   \n",
       "3           0.0     0.0  0.00000     0.0     0.0     0.0     0.0     0.0   \n",
       "4           0.0     0.0  0.00000     0.0     0.0     0.0     0.0     0.0   \n",
       "5           0.0     0.0  6.96549     0.0     0.0     0.0     0.0     0.0   \n",
       "\n",
       "movieId  153      157     ...  74458   77455    80906   84374   88810   \\\n",
       "userId                    ...                                            \n",
       "1           0.0  6.62671  ...     0.0     0.0  0.00000     0.0     0.0   \n",
       "2           0.0  0.00000  ...     0.0     0.0  6.30076     0.0     0.0   \n",
       "3           0.0  0.00000  ...     0.0     0.0  0.00000     0.0     0.0   \n",
       "4           0.0  0.00000  ...     0.0     0.0  0.00000     0.0     0.0   \n",
       "5           0.0  0.00000  ...     0.0     0.0  0.00000     0.0     0.0   \n",
       "\n",
       "movieId  97938   99114    106782  115713   122882  \n",
       "userId                                             \n",
       "1           0.0     0.0  0.00000     0.0  0.00000  \n",
       "2           0.0     0.0  6.30139     0.0  6.29975  \n",
       "3           0.0     0.0  0.00000     0.0  0.00000  \n",
       "4           0.0     0.0  0.00000     0.0  0.00000  \n",
       "5           0.0     0.0  0.00000     0.0  0.00000  \n",
       "\n",
       "[5 rows x 94 columns]"
      ]
     },
     "execution_count": 15,
     "metadata": {},
     "output_type": "execute_result"
    }
   ],
   "source": [
    "R_hat.head()"
   ]
  },
  {
   "cell_type": "code",
   "execution_count": 16,
   "metadata": {},
   "outputs": [
    {
     "data": {
      "text/html": [
       "<div>\n",
       "<style scoped>\n",
       "    .dataframe tbody tr th:only-of-type {\n",
       "        vertical-align: middle;\n",
       "    }\n",
       "\n",
       "    .dataframe tbody tr th {\n",
       "        vertical-align: top;\n",
       "    }\n",
       "\n",
       "    .dataframe thead th {\n",
       "        text-align: right;\n",
       "    }\n",
       "</style>\n",
       "<table border=\"1\" class=\"dataframe\">\n",
       "  <thead>\n",
       "    <tr style=\"text-align: right;\">\n",
       "      <th>movieId</th>\n",
       "      <th>13</th>\n",
       "      <th>32</th>\n",
       "      <th>36</th>\n",
       "      <th>39</th>\n",
       "      <th>43</th>\n",
       "      <th>62</th>\n",
       "      <th>146</th>\n",
       "      <th>150</th>\n",
       "      <th>153</th>\n",
       "      <th>157</th>\n",
       "      <th>...</th>\n",
       "      <th>74458</th>\n",
       "      <th>77455</th>\n",
       "      <th>80906</th>\n",
       "      <th>84374</th>\n",
       "      <th>88810</th>\n",
       "      <th>97938</th>\n",
       "      <th>99114</th>\n",
       "      <th>106782</th>\n",
       "      <th>115713</th>\n",
       "      <th>122882</th>\n",
       "    </tr>\n",
       "    <tr>\n",
       "      <th>userId</th>\n",
       "      <th></th>\n",
       "      <th></th>\n",
       "      <th></th>\n",
       "      <th></th>\n",
       "      <th></th>\n",
       "      <th></th>\n",
       "      <th></th>\n",
       "      <th></th>\n",
       "      <th></th>\n",
       "      <th></th>\n",
       "      <th></th>\n",
       "      <th></th>\n",
       "      <th></th>\n",
       "      <th></th>\n",
       "      <th></th>\n",
       "      <th></th>\n",
       "      <th></th>\n",
       "      <th></th>\n",
       "      <th></th>\n",
       "      <th></th>\n",
       "      <th></th>\n",
       "    </tr>\n",
       "  </thead>\n",
       "  <tbody>\n",
       "    <tr>\n",
       "      <th>1</th>\n",
       "      <td>0.0</td>\n",
       "      <td>0.0</td>\n",
       "      <td>0.0</td>\n",
       "      <td>0.0</td>\n",
       "      <td>0.0</td>\n",
       "      <td>0.0</td>\n",
       "      <td>0.0</td>\n",
       "      <td>0.0</td>\n",
       "      <td>0.0</td>\n",
       "      <td>5.0</td>\n",
       "      <td>...</td>\n",
       "      <td>0.0</td>\n",
       "      <td>0.0</td>\n",
       "      <td>0.0</td>\n",
       "      <td>0.0</td>\n",
       "      <td>0.0</td>\n",
       "      <td>0.0</td>\n",
       "      <td>0.0</td>\n",
       "      <td>0.0</td>\n",
       "      <td>0.0</td>\n",
       "      <td>0.0</td>\n",
       "    </tr>\n",
       "    <tr>\n",
       "      <th>2</th>\n",
       "      <td>0.0</td>\n",
       "      <td>0.0</td>\n",
       "      <td>0.0</td>\n",
       "      <td>0.0</td>\n",
       "      <td>0.0</td>\n",
       "      <td>0.0</td>\n",
       "      <td>0.0</td>\n",
       "      <td>0.0</td>\n",
       "      <td>0.0</td>\n",
       "      <td>0.0</td>\n",
       "      <td>...</td>\n",
       "      <td>4.0</td>\n",
       "      <td>3.0</td>\n",
       "      <td>5.0</td>\n",
       "      <td>0.0</td>\n",
       "      <td>0.0</td>\n",
       "      <td>0.0</td>\n",
       "      <td>3.5</td>\n",
       "      <td>5.0</td>\n",
       "      <td>3.5</td>\n",
       "      <td>5.0</td>\n",
       "    </tr>\n",
       "    <tr>\n",
       "      <th>3</th>\n",
       "      <td>0.0</td>\n",
       "      <td>0.0</td>\n",
       "      <td>0.0</td>\n",
       "      <td>0.0</td>\n",
       "      <td>0.0</td>\n",
       "      <td>0.0</td>\n",
       "      <td>0.0</td>\n",
       "      <td>0.0</td>\n",
       "      <td>0.0</td>\n",
       "      <td>0.0</td>\n",
       "      <td>...</td>\n",
       "      <td>0.0</td>\n",
       "      <td>0.0</td>\n",
       "      <td>0.0</td>\n",
       "      <td>0.0</td>\n",
       "      <td>0.0</td>\n",
       "      <td>0.0</td>\n",
       "      <td>0.0</td>\n",
       "      <td>0.0</td>\n",
       "      <td>0.0</td>\n",
       "      <td>0.0</td>\n",
       "    </tr>\n",
       "    <tr>\n",
       "      <th>4</th>\n",
       "      <td>0.0</td>\n",
       "      <td>0.0</td>\n",
       "      <td>0.0</td>\n",
       "      <td>0.0</td>\n",
       "      <td>0.0</td>\n",
       "      <td>0.0</td>\n",
       "      <td>0.0</td>\n",
       "      <td>0.0</td>\n",
       "      <td>0.0</td>\n",
       "      <td>0.0</td>\n",
       "      <td>...</td>\n",
       "      <td>0.0</td>\n",
       "      <td>0.0</td>\n",
       "      <td>0.0</td>\n",
       "      <td>0.0</td>\n",
       "      <td>0.0</td>\n",
       "      <td>0.0</td>\n",
       "      <td>0.0</td>\n",
       "      <td>0.0</td>\n",
       "      <td>0.0</td>\n",
       "      <td>0.0</td>\n",
       "    </tr>\n",
       "    <tr>\n",
       "      <th>5</th>\n",
       "      <td>0.0</td>\n",
       "      <td>0.0</td>\n",
       "      <td>4.0</td>\n",
       "      <td>3.0</td>\n",
       "      <td>0.0</td>\n",
       "      <td>0.0</td>\n",
       "      <td>0.0</td>\n",
       "      <td>3.0</td>\n",
       "      <td>0.0</td>\n",
       "      <td>0.0</td>\n",
       "      <td>...</td>\n",
       "      <td>0.0</td>\n",
       "      <td>0.0</td>\n",
       "      <td>0.0</td>\n",
       "      <td>0.0</td>\n",
       "      <td>0.0</td>\n",
       "      <td>0.0</td>\n",
       "      <td>0.0</td>\n",
       "      <td>0.0</td>\n",
       "      <td>0.0</td>\n",
       "      <td>0.0</td>\n",
       "    </tr>\n",
       "  </tbody>\n",
       "</table>\n",
       "<p>5 rows × 94 columns</p>\n",
       "</div>"
      ],
      "text/plain": [
       "movieId  13      32      36      39      43      62      146     150     \\\n",
       "userId                                                                    \n",
       "1           0.0     0.0     0.0     0.0     0.0     0.0     0.0     0.0   \n",
       "2           0.0     0.0     0.0     0.0     0.0     0.0     0.0     0.0   \n",
       "3           0.0     0.0     0.0     0.0     0.0     0.0     0.0     0.0   \n",
       "4           0.0     0.0     0.0     0.0     0.0     0.0     0.0     0.0   \n",
       "5           0.0     0.0     4.0     3.0     0.0     0.0     0.0     3.0   \n",
       "\n",
       "movieId  153     157     ...  74458   77455   80906   84374   88810   97938   \\\n",
       "userId                   ...                                                   \n",
       "1           0.0     5.0  ...     0.0     0.0     0.0     0.0     0.0     0.0   \n",
       "2           0.0     0.0  ...     4.0     3.0     5.0     0.0     0.0     0.0   \n",
       "3           0.0     0.0  ...     0.0     0.0     0.0     0.0     0.0     0.0   \n",
       "4           0.0     0.0  ...     0.0     0.0     0.0     0.0     0.0     0.0   \n",
       "5           0.0     0.0  ...     0.0     0.0     0.0     0.0     0.0     0.0   \n",
       "\n",
       "movieId  99114   106782  115713  122882  \n",
       "userId                                   \n",
       "1           0.0     0.0     0.0     0.0  \n",
       "2           3.5     5.0     3.5     5.0  \n",
       "3           0.0     0.0     0.0     0.0  \n",
       "4           0.0     0.0     0.0     0.0  \n",
       "5           0.0     0.0     0.0     0.0  \n",
       "\n",
       "[5 rows x 94 columns]"
      ]
     },
     "execution_count": 16,
     "metadata": {},
     "output_type": "execute_result"
    }
   ],
   "source": [
    "ui_matrix.head()"
   ]
  },
  {
   "cell_type": "markdown",
   "metadata": {},
   "source": [
    "- **Similarity Matrix MSE Error**"
   ]
  },
  {
   "cell_type": "code",
   "execution_count": 17,
   "metadata": {},
   "outputs": [
    {
     "name": "stdout",
     "output_type": "stream",
     "text": [
      "Mean Squared Error  (Similarity Matrix): 0.08701\n",
      "Mean Absolute Error (Similarity Matrix): 0.09645\n"
     ]
    }
   ],
   "source": [
    "from sklearn.metrics import mean_squared_error, mean_absolute_error\n",
    "\n",
    "W, R_hat = slim_fit(ui_matrix.values, lambda_1=0.1, lambda_2=0.1, max_iter=1000)\n",
    "\n",
    "# Compare with W (learned similarity matrix)\n",
    "mse_similarity = mean_squared_error(ii_similarity_matrix.values.flatten(), W.flatten())\n",
    "mae_similarity = mean_absolute_error(ii_similarity_matrix.values.flatten(), W.flatten())\n",
    "\n",
    "print(f\"Mean Squared Error  (Similarity Matrix): {np.round(mse_similarity,5)}\")\n",
    "print(f\"Mean Absolute Error (Similarity Matrix): {np.round(mae_similarity,5)}\")"
   ]
  },
  {
   "cell_type": "markdown",
   "metadata": {},
   "source": [
    "- **Ranking Matrix MSE Error**"
   ]
  },
  {
   "cell_type": "code",
   "execution_count": 18,
   "metadata": {},
   "outputs": [
    {
     "name": "stdout",
     "output_type": "stream",
     "text": [
      "Mean Absolute Error (Ratings Matrix): 0.2679\n",
      "Mean Squared Error  (Ratings Matrix): 0.88007\n"
     ]
    }
   ],
   "source": [
    "# Mask the original user-item matrix to keep only known ratings\n",
    "mask = ui_matrix >= 0\n",
    "true_ratings = ui_matrix[mask]\n",
    "predicted_ratings = pd.DataFrame(R_hat, index=ui_matrix.index, columns=ui_matrix.columns)[mask]\n",
    "\n",
    "# Compute MAE or MSE\n",
    "mae_ratings = np.mean(np.abs(true_ratings - predicted_ratings))\n",
    "mse_ratings = mean_squared_error(true_ratings, predicted_ratings)\n",
    "print(f\"Mean Absolute Error (Ratings Matrix): {np.round(mae_ratings,5)}\")\n",
    "print(f\"Mean Squared Error  (Ratings Matrix): {np.round(mse_ratings,5)}\")"
   ]
  },
  {
   "cell_type": "markdown",
   "metadata": {},
   "source": [
    "### **4. Plotting `MSE` Error for `W` and `R_hat` for variations of `λ1` and `λ2`**"
   ]
  },
  {
   "cell_type": "code",
   "execution_count": 19,
   "metadata": {},
   "outputs": [],
   "source": [
    "def calculate_slim_errors(ui_matrix, ii_similarity_matrix, slim_fit, lambda_1_values, lambda_2_values):\n",
    "    # Initialize grids to store errors\n",
    "    mse_similarity_grid = np.zeros((len(lambda_1_values), len(lambda_2_values)))\n",
    "    mse_rating_grid = np.zeros((len(lambda_1_values), len(lambda_2_values)))\n",
    "\n",
    "    # Iterate over all combinations of lambda_1 and lambda_2\n",
    "    for i, lambda_1 in enumerate(lambda_1_values):\n",
    "        for j, lambda_2 in enumerate(lambda_2_values):\n",
    "            # Fit the SLIM model\n",
    "            W, R_hat = slim_fit(ui_matrix.values, lambda_1=lambda_1, lambda_2=lambda_2, max_iter=1000)\n",
    "\n",
    "            # Compare with ii_similarity_matrix (learned similarity matrix)\n",
    "            mse_similarity = mean_squared_error(ii_similarity_matrix.values.flatten(), W.flatten())\n",
    "\n",
    "            # Mask the original user-item matrix to keep only known ratings\n",
    "            mask = ui_matrix >= 0\n",
    "            true_ratings = ui_matrix[mask]\n",
    "            predicted_ratings = pd.DataFrame(R_hat, index=ui_matrix.index, columns=ui_matrix.columns)[mask]\n",
    "\n",
    "            # Compute MSE for the rating matrix\n",
    "            mse_ratings = mean_squared_error(true_ratings, predicted_ratings)\n",
    "\n",
    "            # Store the errors in the grid\n",
    "            mse_similarity_grid[i, j] = mse_similarity\n",
    "            mse_rating_grid[i, j] = mse_ratings\n",
    "\n",
    "    return mse_similarity_grid, mse_rating_grid\n"
   ]
  },
  {
   "cell_type": "code",
   "execution_count": 20,
   "metadata": {},
   "outputs": [],
   "source": [
    "# Define the range of lambda_1 and lambda_2 values\n",
    "lambda_1_values = np.arange(0.1, 1.0, 0.05)\n",
    "lambda_2_values = np.arange(0.1, 1.0, 0.05)\n",
    "\n",
    "# Call the function to calculate data points\n",
    "mse_similarity_grid, mse_rating_grid = calculate_slim_errors(ui_matrix, ii_similarity_matrix, slim_fit, lambda_1_values, lambda_2_values)"
   ]
  },
  {
   "cell_type": "code",
   "execution_count": 21,
   "metadata": {},
   "outputs": [
    {
     "data": {
      "application/vnd.plotly.v1+json": {
       "config": {
        "plotlyServerURL": "https://plot.ly"
       },
       "data": [
        {
         "colorbar": {
          "len": 0.85,
          "title": {
           "text": "Similarity MSE"
          },
          "x": 0.25
         },
         "colorscale": [
          [
           0,
           "rgb(75, 41, 145)"
          ],
          [
           0.16666666666666666,
           "rgb(135, 44, 162)"
          ],
          [
           0.3333333333333333,
           "rgb(192, 54, 157)"
          ],
          [
           0.5,
           "rgb(234, 79, 136)"
          ],
          [
           0.6666666666666666,
           "rgb(250, 120, 118)"
          ],
          [
           0.8333333333333334,
           "rgb(246, 169, 122)"
          ],
          [
           1,
           "rgb(237, 217, 163)"
          ]
         ],
         "name": "Similarity Matrix MSE(W)",
         "showscale": true,
         "type": "surface",
         "x": [
          0.1,
          0.15000000000000002,
          0.20000000000000004,
          0.25000000000000006,
          0.30000000000000004,
          0.3500000000000001,
          0.40000000000000013,
          0.45000000000000007,
          0.5000000000000001,
          0.5500000000000002,
          0.6000000000000002,
          0.6500000000000001,
          0.7000000000000002,
          0.7500000000000002,
          0.8000000000000002,
          0.8500000000000002,
          0.9000000000000002,
          0.9500000000000003
         ],
         "y": [
          0.1,
          0.15000000000000002,
          0.20000000000000004,
          0.25000000000000006,
          0.30000000000000004,
          0.3500000000000001,
          0.40000000000000013,
          0.45000000000000007,
          0.5000000000000001,
          0.5500000000000002,
          0.6000000000000002,
          0.6500000000000001,
          0.7000000000000002,
          0.7500000000000002,
          0.8000000000000002,
          0.8500000000000002,
          0.9000000000000002,
          0.9500000000000003
         ],
         "z": [
          [
           0.08701450502257398,
           0.08655154570713997,
           0.0862503221261094,
           0.08603481469270644,
           0.08588729443483507,
           0.08579725610748,
           0.08574294446117263,
           0.0857052253172157,
           0.0856846196086112,
           0.08567800085365149,
           0.08568307700037928,
           0.0856972935265992,
           0.0857117753183152,
           0.08573035562289186,
           0.08575277637229434,
           0.08577830596015067,
           0.08580550218497862,
           0.08583561460426316
          ],
          [
           0.08793166362440333,
           0.08755793695291786,
           0.08729024908860017,
           0.08711097555832034,
           0.08698150894624221,
           0.08686274380127793,
           0.08677106570111857,
           0.08670315341048522,
           0.08666176225952663,
           0.08663497508801991,
           0.08662188293351032,
           0.08661515060247119,
           0.08661467789239714,
           0.08661988748524993,
           0.08663017592662865,
           0.08664537873357919,
           0.08666478181518507,
           0.08668760596086306
          ],
          [
           0.08865867675514301,
           0.08831866062351477,
           0.08809983860077719,
           0.08791832916754423,
           0.08780489068076727,
           0.08772551679544674,
           0.08767575696292365,
           0.08762063965781734,
           0.08756051705832223,
           0.08751488004977703,
           0.08747950177449329,
           0.08745782935645302,
           0.08744686854910323,
           0.0874441803115077,
           0.08744668371718925,
           0.08745472760901238,
           0.08746426949200622,
           0.08747749266668019
          ],
          [
           0.08917763442649851,
           0.08896843032687612,
           0.08877083741708887,
           0.08864082502266081,
           0.08851589588979908,
           0.0884202097627558,
           0.08836746247168344,
           0.08833730111911849,
           0.08831907978372931,
           0.08830396136524331,
           0.08829025680764395,
           0.08826312946589054,
           0.0882413739089167,
           0.08822275408014307,
           0.08821243154525085,
           0.08820922287177939,
           0.0882113478336421,
           0.08821794168374879
          ],
          [
           0.08961170058262884,
           0.08947931292887608,
           0.08934450461205726,
           0.0892293184070792,
           0.08915359569873631,
           0.0890709836883131,
           0.08900023084913204,
           0.08894916567191757,
           0.08892403368985759,
           0.08891066307497955,
           0.08890984646231768,
           0.08891842367184252,
           0.08892656509705812,
           0.08892736134248595,
           0.08892270669176369,
           0.08892297310902568,
           0.08892133350233533,
           0.08891661747273266
          ],
          [
           0.09002961206056191,
           0.08993582873352271,
           0.08985129448632782,
           0.08975820504547609,
           0.08969717184051527,
           0.08965418802342162,
           0.08960524270250941,
           0.08955760204383567,
           0.08951707705661852,
           0.08949019702489755,
           0.08947909744817537,
           0.08947620096232661,
           0.08948105167066905,
           0.08949203242487928,
           0.08950853525551848,
           0.08952600187596398,
           0.08954406564510936,
           0.08955629708000665
          ],
          [
           0.09044478030415432,
           0.09035357904369089,
           0.09030150260488624,
           0.09025535677557404,
           0.0901893973233078,
           0.09015598573628698,
           0.09014366055422345,
           0.0901187125203662,
           0.0900951440048709,
           0.09006774528136983,
           0.09004571063288122,
           0.09003194902231093,
           0.09002870731605066,
           0.09003285847007257,
           0.09004026983720335,
           0.09005310942649876,
           0.09006952306744097,
           0.0900894315313184
          ],
          [
           0.09083503950837366,
           0.09075759483490484,
           0.09073395068460563,
           0.09069571952989801,
           0.09066937236857289,
           0.09062893748154173,
           0.09060986142295965,
           0.09060996269378534,
           0.09061479444109237,
           0.09060775389879577,
           0.09059668025825847,
           0.09058449925813516,
           0.09057513244191051,
           0.09056975905854116,
           0.0905710645146488,
           0.09057816411338114,
           0.0905890697515405,
           0.0906019936919917
          ],
          [
           0.09123214979984891,
           0.09116981975842905,
           0.09113644869454186,
           0.09112429629548693,
           0.09110743682053359,
           0.09109470033037678,
           0.09107247358608382,
           0.09106375243995048,
           0.09106723167567587,
           0.09108128729247941,
           0.09109036389809842,
           0.09109781116647916,
           0.09110135935465233,
           0.0910992617468936,
           0.09109907206204669,
           0.0911008249892505,
           0.09110544808149265,
           0.09111384227191842
          ],
          [
           0.09162643576409937,
           0.09156045038610632,
           0.09152441870357628,
           0.09152775739989649,
           0.09152100326659753,
           0.0915171070602807,
           0.09151324097609574,
           0.09150558086125063,
           0.09150458589342572,
           0.09151040293460272,
           0.09152451192397444,
           0.0915443234248409,
           0.09155824921307122,
           0.09157159216897096,
           0.09158306021916793,
           0.091591820506424,
           0.09160039956922772,
           0.09160962758162118
          ],
          [
           0.09200822758677521,
           0.0919407313232671,
           0.0919202534240264,
           0.09191171166596195,
           0.09193018136347847,
           0.09192726959136736,
           0.09193179485478091,
           0.09193440241698378,
           0.09193894624582304,
           0.09194245845540874,
           0.09195108783872467,
           0.09196487313562005,
           0.09198400932634485,
           0.092005456384942,
           0.09202391040259386,
           0.09204205853029439,
           0.09205976100721278,
           0.09207201909196072
          ],
          [
           0.09235526391574712,
           0.09232633520416338,
           0.0923139422397352,
           0.09230152146451158,
           0.09231173182928638,
           0.092332580034881,
           0.09233796242889698,
           0.09234862856385444,
           0.09235636086761402,
           0.09236324365641123,
           0.09237652103690416,
           0.09238873983157249,
           0.09240237345754958,
           0.0924201202736358,
           0.09244138779877459,
           0.09246394771324162,
           0.09248378247070453,
           0.09250559054794466
          ],
          [
           0.09269667501721282,
           0.09270183445834083,
           0.09268349580852953,
           0.09268443823828271,
           0.09269332026978812,
           0.09271618797849307,
           0.0927397455009185,
           0.09275034841747358,
           0.09276587728311532,
           0.09277795851413048,
           0.09278597701185533,
           0.09280064302265156,
           0.09282010201090028,
           0.09283649759820085,
           0.0928532187768221,
           0.09287259060441197,
           0.09289445888985781,
           0.09291785082962328
          ],
          [
           0.09304186124624679,
           0.09308471365622623,
           0.09305370136657848,
           0.09306232473968148,
           0.09306717792676354,
           0.09308476754310617,
           0.09311145600038594,
           0.0931404064731928,
           0.0931579176728206,
           0.09317732119281523,
           0.09319802309895629,
           0.09320693082417521,
           0.0932208692094111,
           0.09323891045986542,
           0.09326011610365577,
           0.0932819645972366,
           0.0933007160855758,
           0.0933206016773983
          ],
          [
           0.0933671237094413,
           0.09342181069001565,
           0.09341769210307016,
           0.09342512057489145,
           0.09343984508445433,
           0.09345711590921828,
           0.09347939037310463,
           0.09350732950585418,
           0.09353923987210051,
           0.09355785774211825,
           0.09357843148091112,
           0.09360228021468002,
           0.09361933893021025,
           0.09363478785917022,
           0.09365356192260989,
           0.09367447378489187,
           0.09369592637110259,
           0.09371908531112032
          ],
          [
           0.09367328805546073,
           0.09372671225547557,
           0.09375290892813985,
           0.09375353431423428,
           0.0937744816812807,
           0.09378995137723053,
           0.09381467417299605,
           0.09384404290241709,
           0.09387585814591165,
           0.09391025690190406,
           0.09393681461953712,
           0.09396004102012383,
           0.09398581167373812,
           0.09401053926948676,
           0.09402769117625323,
           0.09404502477236437,
           0.09406463975253712,
           0.09408608743675552
          ],
          [
           0.09398482384178393,
           0.09403635170439417,
           0.09408769043458028,
           0.09408651155522507,
           0.09410253996656441,
           0.09412495225091022,
           0.09414494422092762,
           0.09417213319569698,
           0.09420363121128376,
           0.09423505049074676,
           0.09426846885753944,
           0.09430049214954894,
           0.09432361982978878,
           0.09434827617643733,
           0.09437473412075693,
           0.09439793913258292,
           0.09442014609170589,
           0.09444080294779128
          ],
          [
           0.09430174171446129,
           0.09435095334621715,
           0.09440019129826846,
           0.09442417876190952,
           0.09443486412256778,
           0.0944576376546422,
           0.09447928844769345,
           0.0945023152815598,
           0.0945301922190605,
           0.09456105931744604,
           0.09459359984274239,
           0.09462552058085552,
           0.09465762596978954,
           0.09468611494458214,
           0.09470950998751927,
           0.09473436068363483,
           0.09476033384725294,
           0.09478164101903287
          ]
         ]
        },
        {
         "colorbar": {
          "len": 0.85,
          "title": {
           "text": "Rating MSE"
          },
          "x": 0.75
         },
         "colorscale": [
          [
           0,
           "rgb(36, 86, 104)"
          ],
          [
           0.16666666666666666,
           "rgb(15, 114, 121)"
          ],
          [
           0.3333333333333333,
           "rgb(13, 143, 129)"
          ],
          [
           0.5,
           "rgb(57, 171, 126)"
          ],
          [
           0.6666666666666666,
           "rgb(110, 197, 116)"
          ],
          [
           0.8333333333333334,
           "rgb(169, 220, 103)"
          ],
          [
           1,
           "rgb(237, 239, 93)"
          ]
         ],
         "name": "Rating Matrix MSE(R_hat)",
         "opacity": 0.8,
         "showscale": true,
         "type": "surface",
         "x": [
          0.1,
          0.15000000000000002,
          0.20000000000000004,
          0.25000000000000006,
          0.30000000000000004,
          0.3500000000000001,
          0.40000000000000013,
          0.45000000000000007,
          0.5000000000000001,
          0.5500000000000002,
          0.6000000000000002,
          0.6500000000000001,
          0.7000000000000002,
          0.7500000000000002,
          0.8000000000000002,
          0.8500000000000002,
          0.9000000000000002,
          0.9500000000000003
         ],
         "y": [
          0.1,
          0.15000000000000002,
          0.20000000000000004,
          0.25000000000000006,
          0.30000000000000004,
          0.3500000000000001,
          0.40000000000000013,
          0.45000000000000007,
          0.5000000000000001,
          0.5500000000000002,
          0.6000000000000002,
          0.6500000000000001,
          0.7000000000000002,
          0.7500000000000002,
          0.8000000000000002,
          0.8500000000000002,
          0.9000000000000002,
          0.9500000000000003
         ],
         "z": [
          [
           0.8800727872941487,
           0.6020204913657448,
           0.45605535294393623,
           0.36533476226521283,
           0.30223807453085105,
           0.260253867572766,
           0.23007918342787237,
           0.20614923047797878,
           0.18760672637670214,
           0.1731617737694681,
           0.16179548243851063,
           0.15278133877574473,
           0.1446463850923404,
           0.13775325898,
           0.13199456654521274,
           0.1270583339320213,
           0.12264178990510637,
           0.11889501012425531
          ],
          [
           1.0757900018093616,
           0.8084793783714892,
           0.6213991147728724,
           0.5023736802572341,
           0.42346201641797876,
           0.36435044412787226,
           0.31714211884925536,
           0.2800604473802128,
           0.25245214849255326,
           0.2308941592734043,
           0.2140342243382979,
           0.19923271306053195,
           0.18690380419893615,
           0.17666492893680852,
           0.1680498358956383,
           0.16090958205999997,
           0.15496396446542557,
           0.150021138511383
          ],
          [
           1.1708907412276595,
           0.9271800152631914,
           0.7543022732879785,
           0.6166885900197874,
           0.5223392669679788,
           0.4545041948769149,
           0.4061877963073405,
           0.3656266563097873,
           0.32967408029978723,
           0.3000203939117021,
           0.27495105717393625,
           0.2549568029324468,
           0.23885459646563828,
           0.22564040933351065,
           0.21459425198627657,
           0.2052734578888298,
           0.19672650564606387,
           0.1895254371432979
          ],
          [
           1.1758909984527657,
           0.9906059873611702,
           0.8327210535267022,
           0.7147325046903189,
           0.6104680195592553,
           0.5291175141735107,
           0.4721008144072341,
           0.428732666531064,
           0.3951237556093617,
           0.3672255586108511,
           0.34352507067606386,
           0.31971804751361704,
           0.2994024732919149,
           0.2811858029746808,
           0.2659503621488298,
           0.25334403301978725,
           0.2427956612589362,
           0.2338741534139362
          ],
          [
           1.1493249195645743,
           1.0080022405076594,
           0.8739319858634041,
           0.7669431205232977,
           0.6832727811087234,
           0.604862203581383,
           0.5378657201195745,
           0.48497349517159577,
           0.44617193681946815,
           0.4147614739229788,
           0.3903183475114895,
           0.3710127600626596,
           0.3539189871951064,
           0.3379298081287235,
           0.3219237438865958,
           0.3082669132524468,
           0.29563627835808515,
           0.2835909396326596
          ],
          [
           1.1184258630197872,
           1.0024389767124466,
           0.8952373754994679,
           0.7941591511522339,
           0.7194453900355318,
           0.6585167028943618,
           0.5993901360887235,
           0.5462942391861703,
           0.5001885427504255,
           0.4633432040426596,
           0.4349792759138299,
           0.411437682126383,
           0.392306465678298,
           0.376706542734468,
           0.3639928145217021,
           0.35276843178446815,
           0.3427127607874469,
           0.3323106525632979
          ],
          [
           1.0884395713311703,
           0.9814997154776595,
           0.8947209489636169,
           0.8167844720868085,
           0.7378842497399999,
           0.6814921876303193,
           0.6384404863955319,
           0.5941572883993618,
           0.5546248527968086,
           0.5165014654623404,
           0.48309577530457454,
           0.45578857181414906,
           0.4340617422529787,
           0.4161557257475533,
           0.4006595473434043,
           0.38795726612042564,
           0.37732425310244677,
           0.36848835398010643
          ],
          [
           1.0569843443613829,
           0.9564655357598936,
           0.8887246944674467,
           0.8189086349147872,
           0.7577646851902127,
           0.698184478056383,
           0.6537601340852128,
           0.6206331774274468,
           0.5913035622998937,
           0.5600578504967022,
           0.5313736642231915,
           0.5037839209452128,
           0.4790393005542554,
           0.45809002290734047,
           0.4408997543132979,
           0.4266872796412767,
           0.41446163959787247,
           0.4038153128437235
          ],
          [
           1.0331551953698934,
           0.938406925858936,
           0.8705428993232979,
           0.816373987688085,
           0.7642556473620212,
           0.7167757280039361,
           0.6709985807238298,
           0.635551914741383,
           0.6080042298996808,
           0.5865702640210639,
           0.5641436977706384,
           0.54280663107,
           0.5226036583395746,
           0.5024928298518085,
           0.4839589876574469,
           0.46771526302638305,
           0.45390480521138304,
           0.4422907989048936
          ],
          [
           1.0174070543877658,
           0.9188379244763829,
           0.855183792959468,
           0.8116973869764893,
           0.7671840615194678,
           0.7270837412168084,
           0.6895244257707447,
           0.6541505155701064,
           0.6255637219761703,
           0.602420206044149,
           0.5840544019787235,
           0.5692158329836171,
           0.5526176509638299,
           0.5372391045922341,
           0.5225769857947874,
           0.5084649295824468,
           0.494906338591915,
           0.4827724383157446
          ],
          [
           0.9958551278775531,
           0.9024430650332977,
           0.8461638182020212,
           0.8008947347475532,
           0.7704594612788297,
           0.7338575583209574,
           0.7024514318652126,
           0.6726235738592553,
           0.6454995593587235,
           0.621953908890213,
           0.6026353921756383,
           0.5868613777168086,
           0.5741258350172341,
           0.5630865871853192,
           0.5514928019728723,
           0.5405898067880851,
           0.5303000335619149,
           0.5195698066478723
          ],
          [
           0.9620252082964893,
           0.8917949668798935,
           0.8387836668798936,
           0.7953907802346808,
           0.764438585579468,
           0.7403037316628723,
           0.712396227457766,
           0.6877070881805321,
           0.6641927993271277,
           0.641758525667766,
           0.6237784085358512,
           0.6080094611823406,
           0.594452502045532,
           0.5833186881372341,
           0.5742353250880852,
           0.5662018313572342,
           0.5576335391818086,
           0.5503537472352128
          ],
          [
           0.933013470162234,
           0.8849800392370212,
           0.8300162693805316,
           0.7927788758634042,
           0.7625791821325532,
           0.7407117708555317,
           0.721952796077021,
           0.700355239746702,
           0.6810604388495743,
           0.6628836831587235,
           0.6440951384181915,
           0.629206057706383,
           0.6172401684761702,
           0.60624530023,
           0.5966123089137234,
           0.588599364719149,
           0.5820302066394681,
           0.576459611451383
          ],
          [
           0.9097290836681914,
           0.8842107990365957,
           0.8261965164186169,
           0.7930853808324468,
           0.7636357457170214,
           0.7418027923665955,
           0.7255667293412764,
           0.7118134738610635,
           0.6954379066198935,
           0.6801639730822341,
           0.6674775438174468,
           0.6517954726584043,
           0.6390843094576596,
           0.628829683487766,
           0.6204898159797874,
           0.6133566489267023,
           0.6065582204462767,
           0.6007596586234042
          ],
          [
           0.8898208516351064,
           0.8708483136004254,
           0.8265464149013828,
           0.7930398605486167,
           0.7677311981880851,
           0.7470983419907448,
           0.7310291846381914,
           0.7187283158094678,
           0.7091252453642554,
           0.6961379888191489,
           0.6840171802787236,
           0.6743462484748938,
           0.6633684469647873,
           0.6528216297045746,
           0.6442808113108511,
           0.637293469953617,
           0.6314081822612766,
           0.6266046213731915
          ],
          [
           0.8729479888117021,
           0.8563896847148935,
           0.8289365467489359,
           0.7945558538791488,
           0.772857028079149,
           0.7525240780235106,
           0.737821141313936,
           0.726423570254468,
           0.7173520068239362,
           0.7102908416878723,
           0.7016615024221275,
           0.6922057754488298,
           0.6845548636907446,
           0.6776882976952128,
           0.6692979831746809,
           0.6619391018014894,
           0.6559748738871278,
           0.6511465161411703
          ],
          [
           0.8602966219119148,
           0.8459203656770212,
           0.834114880691383,
           0.7996463596452126,
           0.7778594747537234,
           0.7612424956787234,
           0.746448387541702,
           0.7357526025891489,
           0.7277771510401063,
           0.721003538274468,
           0.715823756933085,
           0.7109533862,
           0.7036507282001063,
           0.6974757085855318,
           0.6926390895440426,
           0.6871497181111701,
           0.6818739146495744,
           0.6770134585851064
          ],
          [
           0.8518649584452128,
           0.8394845291732977,
           0.8294579803591489,
           0.8083734825152127,
           0.7862859366687235,
           0.7716888610747872,
           0.7584004330052126,
           0.7477346833843617,
           0.7399357957285104,
           0.7341313331872339,
           0.7297024073835107,
           0.725953045637234,
           0.72287282051117,
           0.7190761430847871,
           0.7141101201811701,
           0.7102627930671276,
           0.7073142061232979,
           0.7031230832429786
          ]
         ]
        }
       ],
       "layout": {
        "margin": {
         "b": 0,
         "l": 0,
         "r": 0,
         "t": 0
        },
        "scene": {
         "xaxis": {
          "title": {
           "text": "λ1 Values"
          }
         },
         "yaxis": {
          "title": {
           "text": "λ2 Values"
          }
         },
         "zaxis": {
          "title": {
           "text": "Mean Squared Error (MSE)"
          }
         }
        },
        "template": {
         "data": {
          "bar": [
           {
            "error_x": {
             "color": "#2a3f5f"
            },
            "error_y": {
             "color": "#2a3f5f"
            },
            "marker": {
             "line": {
              "color": "#E5ECF6",
              "width": 0.5
             },
             "pattern": {
              "fillmode": "overlay",
              "size": 10,
              "solidity": 0.2
             }
            },
            "type": "bar"
           }
          ],
          "barpolar": [
           {
            "marker": {
             "line": {
              "color": "#E5ECF6",
              "width": 0.5
             },
             "pattern": {
              "fillmode": "overlay",
              "size": 10,
              "solidity": 0.2
             }
            },
            "type": "barpolar"
           }
          ],
          "carpet": [
           {
            "aaxis": {
             "endlinecolor": "#2a3f5f",
             "gridcolor": "white",
             "linecolor": "white",
             "minorgridcolor": "white",
             "startlinecolor": "#2a3f5f"
            },
            "baxis": {
             "endlinecolor": "#2a3f5f",
             "gridcolor": "white",
             "linecolor": "white",
             "minorgridcolor": "white",
             "startlinecolor": "#2a3f5f"
            },
            "type": "carpet"
           }
          ],
          "choropleth": [
           {
            "colorbar": {
             "outlinewidth": 0,
             "ticks": ""
            },
            "type": "choropleth"
           }
          ],
          "contour": [
           {
            "colorbar": {
             "outlinewidth": 0,
             "ticks": ""
            },
            "colorscale": [
             [
              0,
              "#0d0887"
             ],
             [
              0.1111111111111111,
              "#46039f"
             ],
             [
              0.2222222222222222,
              "#7201a8"
             ],
             [
              0.3333333333333333,
              "#9c179e"
             ],
             [
              0.4444444444444444,
              "#bd3786"
             ],
             [
              0.5555555555555556,
              "#d8576b"
             ],
             [
              0.6666666666666666,
              "#ed7953"
             ],
             [
              0.7777777777777778,
              "#fb9f3a"
             ],
             [
              0.8888888888888888,
              "#fdca26"
             ],
             [
              1,
              "#f0f921"
             ]
            ],
            "type": "contour"
           }
          ],
          "contourcarpet": [
           {
            "colorbar": {
             "outlinewidth": 0,
             "ticks": ""
            },
            "type": "contourcarpet"
           }
          ],
          "heatmap": [
           {
            "colorbar": {
             "outlinewidth": 0,
             "ticks": ""
            },
            "colorscale": [
             [
              0,
              "#0d0887"
             ],
             [
              0.1111111111111111,
              "#46039f"
             ],
             [
              0.2222222222222222,
              "#7201a8"
             ],
             [
              0.3333333333333333,
              "#9c179e"
             ],
             [
              0.4444444444444444,
              "#bd3786"
             ],
             [
              0.5555555555555556,
              "#d8576b"
             ],
             [
              0.6666666666666666,
              "#ed7953"
             ],
             [
              0.7777777777777778,
              "#fb9f3a"
             ],
             [
              0.8888888888888888,
              "#fdca26"
             ],
             [
              1,
              "#f0f921"
             ]
            ],
            "type": "heatmap"
           }
          ],
          "heatmapgl": [
           {
            "colorbar": {
             "outlinewidth": 0,
             "ticks": ""
            },
            "colorscale": [
             [
              0,
              "#0d0887"
             ],
             [
              0.1111111111111111,
              "#46039f"
             ],
             [
              0.2222222222222222,
              "#7201a8"
             ],
             [
              0.3333333333333333,
              "#9c179e"
             ],
             [
              0.4444444444444444,
              "#bd3786"
             ],
             [
              0.5555555555555556,
              "#d8576b"
             ],
             [
              0.6666666666666666,
              "#ed7953"
             ],
             [
              0.7777777777777778,
              "#fb9f3a"
             ],
             [
              0.8888888888888888,
              "#fdca26"
             ],
             [
              1,
              "#f0f921"
             ]
            ],
            "type": "heatmapgl"
           }
          ],
          "histogram": [
           {
            "marker": {
             "pattern": {
              "fillmode": "overlay",
              "size": 10,
              "solidity": 0.2
             }
            },
            "type": "histogram"
           }
          ],
          "histogram2d": [
           {
            "colorbar": {
             "outlinewidth": 0,
             "ticks": ""
            },
            "colorscale": [
             [
              0,
              "#0d0887"
             ],
             [
              0.1111111111111111,
              "#46039f"
             ],
             [
              0.2222222222222222,
              "#7201a8"
             ],
             [
              0.3333333333333333,
              "#9c179e"
             ],
             [
              0.4444444444444444,
              "#bd3786"
             ],
             [
              0.5555555555555556,
              "#d8576b"
             ],
             [
              0.6666666666666666,
              "#ed7953"
             ],
             [
              0.7777777777777778,
              "#fb9f3a"
             ],
             [
              0.8888888888888888,
              "#fdca26"
             ],
             [
              1,
              "#f0f921"
             ]
            ],
            "type": "histogram2d"
           }
          ],
          "histogram2dcontour": [
           {
            "colorbar": {
             "outlinewidth": 0,
             "ticks": ""
            },
            "colorscale": [
             [
              0,
              "#0d0887"
             ],
             [
              0.1111111111111111,
              "#46039f"
             ],
             [
              0.2222222222222222,
              "#7201a8"
             ],
             [
              0.3333333333333333,
              "#9c179e"
             ],
             [
              0.4444444444444444,
              "#bd3786"
             ],
             [
              0.5555555555555556,
              "#d8576b"
             ],
             [
              0.6666666666666666,
              "#ed7953"
             ],
             [
              0.7777777777777778,
              "#fb9f3a"
             ],
             [
              0.8888888888888888,
              "#fdca26"
             ],
             [
              1,
              "#f0f921"
             ]
            ],
            "type": "histogram2dcontour"
           }
          ],
          "mesh3d": [
           {
            "colorbar": {
             "outlinewidth": 0,
             "ticks": ""
            },
            "type": "mesh3d"
           }
          ],
          "parcoords": [
           {
            "line": {
             "colorbar": {
              "outlinewidth": 0,
              "ticks": ""
             }
            },
            "type": "parcoords"
           }
          ],
          "pie": [
           {
            "automargin": true,
            "type": "pie"
           }
          ],
          "scatter": [
           {
            "fillpattern": {
             "fillmode": "overlay",
             "size": 10,
             "solidity": 0.2
            },
            "type": "scatter"
           }
          ],
          "scatter3d": [
           {
            "line": {
             "colorbar": {
              "outlinewidth": 0,
              "ticks": ""
             }
            },
            "marker": {
             "colorbar": {
              "outlinewidth": 0,
              "ticks": ""
             }
            },
            "type": "scatter3d"
           }
          ],
          "scattercarpet": [
           {
            "marker": {
             "colorbar": {
              "outlinewidth": 0,
              "ticks": ""
             }
            },
            "type": "scattercarpet"
           }
          ],
          "scattergeo": [
           {
            "marker": {
             "colorbar": {
              "outlinewidth": 0,
              "ticks": ""
             }
            },
            "type": "scattergeo"
           }
          ],
          "scattergl": [
           {
            "marker": {
             "colorbar": {
              "outlinewidth": 0,
              "ticks": ""
             }
            },
            "type": "scattergl"
           }
          ],
          "scattermapbox": [
           {
            "marker": {
             "colorbar": {
              "outlinewidth": 0,
              "ticks": ""
             }
            },
            "type": "scattermapbox"
           }
          ],
          "scatterpolar": [
           {
            "marker": {
             "colorbar": {
              "outlinewidth": 0,
              "ticks": ""
             }
            },
            "type": "scatterpolar"
           }
          ],
          "scatterpolargl": [
           {
            "marker": {
             "colorbar": {
              "outlinewidth": 0,
              "ticks": ""
             }
            },
            "type": "scatterpolargl"
           }
          ],
          "scatterternary": [
           {
            "marker": {
             "colorbar": {
              "outlinewidth": 0,
              "ticks": ""
             }
            },
            "type": "scatterternary"
           }
          ],
          "surface": [
           {
            "colorbar": {
             "outlinewidth": 0,
             "ticks": ""
            },
            "colorscale": [
             [
              0,
              "#0d0887"
             ],
             [
              0.1111111111111111,
              "#46039f"
             ],
             [
              0.2222222222222222,
              "#7201a8"
             ],
             [
              0.3333333333333333,
              "#9c179e"
             ],
             [
              0.4444444444444444,
              "#bd3786"
             ],
             [
              0.5555555555555556,
              "#d8576b"
             ],
             [
              0.6666666666666666,
              "#ed7953"
             ],
             [
              0.7777777777777778,
              "#fb9f3a"
             ],
             [
              0.8888888888888888,
              "#fdca26"
             ],
             [
              1,
              "#f0f921"
             ]
            ],
            "type": "surface"
           }
          ],
          "table": [
           {
            "cells": {
             "fill": {
              "color": "#EBF0F8"
             },
             "line": {
              "color": "white"
             }
            },
            "header": {
             "fill": {
              "color": "#C8D4E3"
             },
             "line": {
              "color": "white"
             }
            },
            "type": "table"
           }
          ]
         },
         "layout": {
          "annotationdefaults": {
           "arrowcolor": "#2a3f5f",
           "arrowhead": 0,
           "arrowwidth": 1
          },
          "autotypenumbers": "strict",
          "coloraxis": {
           "colorbar": {
            "outlinewidth": 0,
            "ticks": ""
           }
          },
          "colorscale": {
           "diverging": [
            [
             0,
             "#8e0152"
            ],
            [
             0.1,
             "#c51b7d"
            ],
            [
             0.2,
             "#de77ae"
            ],
            [
             0.3,
             "#f1b6da"
            ],
            [
             0.4,
             "#fde0ef"
            ],
            [
             0.5,
             "#f7f7f7"
            ],
            [
             0.6,
             "#e6f5d0"
            ],
            [
             0.7,
             "#b8e186"
            ],
            [
             0.8,
             "#7fbc41"
            ],
            [
             0.9,
             "#4d9221"
            ],
            [
             1,
             "#276419"
            ]
           ],
           "sequential": [
            [
             0,
             "#0d0887"
            ],
            [
             0.1111111111111111,
             "#46039f"
            ],
            [
             0.2222222222222222,
             "#7201a8"
            ],
            [
             0.3333333333333333,
             "#9c179e"
            ],
            [
             0.4444444444444444,
             "#bd3786"
            ],
            [
             0.5555555555555556,
             "#d8576b"
            ],
            [
             0.6666666666666666,
             "#ed7953"
            ],
            [
             0.7777777777777778,
             "#fb9f3a"
            ],
            [
             0.8888888888888888,
             "#fdca26"
            ],
            [
             1,
             "#f0f921"
            ]
           ],
           "sequentialminus": [
            [
             0,
             "#0d0887"
            ],
            [
             0.1111111111111111,
             "#46039f"
            ],
            [
             0.2222222222222222,
             "#7201a8"
            ],
            [
             0.3333333333333333,
             "#9c179e"
            ],
            [
             0.4444444444444444,
             "#bd3786"
            ],
            [
             0.5555555555555556,
             "#d8576b"
            ],
            [
             0.6666666666666666,
             "#ed7953"
            ],
            [
             0.7777777777777778,
             "#fb9f3a"
            ],
            [
             0.8888888888888888,
             "#fdca26"
            ],
            [
             1,
             "#f0f921"
            ]
           ]
          },
          "colorway": [
           "#636efa",
           "#EF553B",
           "#00cc96",
           "#ab63fa",
           "#FFA15A",
           "#19d3f3",
           "#FF6692",
           "#B6E880",
           "#FF97FF",
           "#FECB52"
          ],
          "font": {
           "color": "#2a3f5f"
          },
          "geo": {
           "bgcolor": "white",
           "lakecolor": "white",
           "landcolor": "#E5ECF6",
           "showlakes": true,
           "showland": true,
           "subunitcolor": "white"
          },
          "hoverlabel": {
           "align": "left"
          },
          "hovermode": "closest",
          "mapbox": {
           "style": "light"
          },
          "paper_bgcolor": "white",
          "plot_bgcolor": "#E5ECF6",
          "polar": {
           "angularaxis": {
            "gridcolor": "white",
            "linecolor": "white",
            "ticks": ""
           },
           "bgcolor": "#E5ECF6",
           "radialaxis": {
            "gridcolor": "white",
            "linecolor": "white",
            "ticks": ""
           }
          },
          "scene": {
           "xaxis": {
            "backgroundcolor": "#E5ECF6",
            "gridcolor": "white",
            "gridwidth": 2,
            "linecolor": "white",
            "showbackground": true,
            "ticks": "",
            "zerolinecolor": "white"
           },
           "yaxis": {
            "backgroundcolor": "#E5ECF6",
            "gridcolor": "white",
            "gridwidth": 2,
            "linecolor": "white",
            "showbackground": true,
            "ticks": "",
            "zerolinecolor": "white"
           },
           "zaxis": {
            "backgroundcolor": "#E5ECF6",
            "gridcolor": "white",
            "gridwidth": 2,
            "linecolor": "white",
            "showbackground": true,
            "ticks": "",
            "zerolinecolor": "white"
           }
          },
          "shapedefaults": {
           "line": {
            "color": "#2a3f5f"
           }
          },
          "ternary": {
           "aaxis": {
            "gridcolor": "white",
            "linecolor": "white",
            "ticks": ""
           },
           "baxis": {
            "gridcolor": "white",
            "linecolor": "white",
            "ticks": ""
           },
           "bgcolor": "#E5ECF6",
           "caxis": {
            "gridcolor": "white",
            "linecolor": "white",
            "ticks": ""
           }
          },
          "title": {
           "x": 0.05
          },
          "xaxis": {
           "automargin": true,
           "gridcolor": "white",
           "linecolor": "white",
           "ticks": "",
           "title": {
            "standoff": 15
           },
           "zerolinecolor": "white",
           "zerolinewidth": 2
          },
          "yaxis": {
           "automargin": true,
           "gridcolor": "white",
           "linecolor": "white",
           "ticks": "",
           "title": {
            "standoff": 15
           },
           "zerolinecolor": "white",
           "zerolinewidth": 2
          }
         }
        },
        "title": {
         "text": "SLIM Model: 3D Surface Plot of Errors"
        }
       }
      }
     },
     "metadata": {},
     "output_type": "display_data"
    }
   ],
   "source": [
    "import plotly.graph_objects as go\n",
    "\n",
    "# Create a 3D surface plot for similarity matrix errors\n",
    "fig = go.Figure()\n",
    "\n",
    "# Add the first surface for similarity matrix errors\n",
    "fig.add_trace(go.Surface(\n",
    "    z=mse_similarity_grid,\n",
    "    x=lambda_1_values,\n",
    "    y=lambda_2_values,\n",
    "    colorscale='Agsunset',\n",
    "    name=\"Similarity Matrix MSE(W)\",\n",
    "    showscale=True,\n",
    "    colorbar=dict(\n",
    "        title=\"Similarity MSE\",\n",
    "        x=0.25,  # Position of the colorbar\n",
    "        len=0.85  # Length of the colorbar\n",
    "    )\n",
    "))\n",
    "\n",
    "# Add the second surface for rating matrix errors\n",
    "fig.add_trace(go.Surface(\n",
    "    z=mse_rating_grid,\n",
    "    x=lambda_1_values,\n",
    "    y=lambda_2_values,\n",
    "    colorscale='Aggrnyl',\n",
    "    name=\"Rating Matrix MSE(R_hat)\",\n",
    "    showscale=True,\n",
    "    opacity=0.8,\n",
    "    colorbar=dict(\n",
    "        title=\"Rating MSE\",\n",
    "        x=0.75,  # Position of the colorbar (shifted right)\n",
    "        len=0.85  # Length of the colorbar\n",
    "    )\n",
    "))\n",
    "\n",
    "# Update layout for better visualization\n",
    "fig.update_layout(\n",
    "    title=\"SLIM Model: 3D Surface Plot of Errors\",\n",
    "    scene=dict(\n",
    "        xaxis_title='λ1 Values',\n",
    "        yaxis_title='λ2 Values',\n",
    "        zaxis_title='Mean Squared Error (MSE)'\n",
    "    ),\n",
    "    margin=dict(l=0, r=0, b=0, t=0)\n",
    ")\n",
    "\n",
    "# Show the interactive plot\n",
    "fig.show()\n"
   ]
  },
  {
   "cell_type": "code",
   "execution_count": 22,
   "metadata": {},
   "outputs": [],
   "source": [
    "from sklearn.preprocessing import MinMaxScaler\n",
    "\n",
    "# Initialize the MinMaxScaler\n",
    "scaler = MinMaxScaler()\n",
    "\n",
    "# Reshape the grids to be 2D arrays (if they are not already)\n",
    "mse_similarity_grid_reshaped = mse_similarity_grid.reshape(-1, 1)\n",
    "mse_rating_grid_reshaped = mse_rating_grid.reshape(-1, 1)\n",
    "\n",
    "# Scale the values between 0 and 1 using MinMaxScaler\n",
    "mse_similarity_grid_scaled = scaler.fit_transform(mse_similarity_grid_reshaped)\n",
    "mse_rating_grid_scaled = scaler.fit_transform(mse_rating_grid_reshaped)\n",
    "\n",
    "# Reshape back to original grid shape\n",
    "mse_similarity_grid_scaled = mse_similarity_grid_scaled.reshape(len(lambda_1_values), len(lambda_2_values))\n",
    "mse_rating_grid_scaled = mse_rating_grid_scaled.reshape(len(lambda_1_values), len(lambda_2_values))"
   ]
  },
  {
   "cell_type": "code",
   "execution_count": 23,
   "metadata": {},
   "outputs": [
    {
     "data": {
      "application/vnd.plotly.v1+json": {
       "config": {
        "plotlyServerURL": "https://plot.ly"
       },
       "data": [
        {
         "colorbar": {
          "len": 0.85,
          "title": {
           "text": "Similarity MSE"
          },
          "x": 0.25
         },
         "colorscale": [
          [
           0,
           "rgb(75, 41, 145)"
          ],
          [
           0.16666666666666666,
           "rgb(135, 44, 162)"
          ],
          [
           0.3333333333333333,
           "rgb(192, 54, 157)"
          ],
          [
           0.5,
           "rgb(234, 79, 136)"
          ],
          [
           0.6666666666666666,
           "rgb(250, 120, 118)"
          ],
          [
           0.8333333333333334,
           "rgb(246, 169, 122)"
          ],
          [
           1,
           "rgb(237, 217, 163)"
          ]
         ],
         "name": "Similarity Matrix MSE",
         "showscale": true,
         "type": "surface",
         "x": [
          0.1,
          0.15000000000000002,
          0.20000000000000004,
          0.25000000000000006,
          0.30000000000000004,
          0.3500000000000001,
          0.40000000000000013,
          0.45000000000000007,
          0.5000000000000001,
          0.5500000000000002,
          0.6000000000000002,
          0.6500000000000001,
          0.7000000000000002,
          0.7500000000000002,
          0.8000000000000002,
          0.8500000000000002,
          0.9000000000000002,
          0.9500000000000003
         ],
         "y": [
          0.1,
          0.15000000000000002,
          0.20000000000000004,
          0.25000000000000006,
          0.30000000000000004,
          0.3500000000000001,
          0.40000000000000013,
          0.45000000000000007,
          0.5000000000000001,
          0.5500000000000002,
          0.6000000000000002,
          0.6500000000000001,
          0.7000000000000002,
          0.7500000000000002,
          0.8000000000000002,
          0.8500000000000002,
          0.9000000000000002,
          0.9500000000000003
         ],
         "z": [
          [
           0.14680986337804214,
           0.09595555597752359,
           0.06286729946052816,
           0.039194633418379254,
           0.02299009817847164,
           0.013099732816989729,
           0.007133806514904251,
           0.0029905030372070485,
           0.0007270448786940165,
           0,
           0.000557595273491529,
           0.002119226221296344,
           0.0037099955677231122,
           0.005750970852238524,
           0.008213804289761484,
           0.011018131722803304,
           0.014005532843004431,
           0.017313266753559375
          ],
          [
           0.24755622254511955,
           0.2065037792701041,
           0.17709929277297398,
           0.1574067821922558,
           0.14318537078690774,
           0.13013947455125496,
           0.12006898642849606,
           0.11260908144547521,
           0.10806242206454009,
           0.10511995388477047,
           0.1036818308623566,
           0.10294231008639976,
           0.10289038469551848,
           0.10346263851466553,
           0.10459278438948161,
           0.1062627544975232,
           0.10839410868698884,
           0.11090125366013659
          ],
          [
           0.32741583007929087,
           0.2900663604768763,
           0.2660295994931001,
           0.24609148353777144,
           0.23363070029983746,
           0.22491178304491655,
           0.21944585605097622,
           0.21339143121596216,
           0.20678719396548928,
           0.20177414339273803,
           0.19788797537191982,
           0.19550734326799635,
           0.19430334056680465,
           0.19400804796442905,
           0.1942830374890665,
           0.19516662819311392,
           0.19621476748909927,
           0.19766728257468635
          ],
          [
           0.38442134237194026,
           0.3614410734002025,
           0.3397362491543312,
           0.32545488564850444,
           0.31173189895392817,
           0.3012211444310129,
           0.29542705655911483,
           0.29211394751514597,
           0.29011240362081914,
           0.2884517032623517,
           0.2869463101063836,
           0.28396647552806265,
           0.2815767109307572,
           0.27953139406460537,
           0.27839750314792866,
           0.27804504265814955,
           0.2782784615789442,
           0.2790027707549321
          ],
          [
           0.4321018469003324,
           0.4175595702562944,
           0.4027513930469784,
           0.390098629659418,
           0.38178078020938777,
           0.3727061673158154,
           0.3649342389557617,
           0.35932492484769085,
           0.3565642728883187,
           0.35509556206109494,
           0.3550058602882853,
           0.3559480338989527,
           0.3568423382725552,
           0.3569298027827248,
           0.35641850723086854,
           0.3564477721465664,
           0.3562676676322667,
           0.35574962984551384
          ],
          [
           0.4780078219104471,
           0.4677060826791646,
           0.4584203194394938,
           0.4481948009479204,
           0.4414905371751825,
           0.43676892952013624,
           0.4313924735066017,
           0.4261593296423598,
           0.4217078150305156,
           0.41875514651191814,
           0.4175359005267367,
           0.41721773265145323,
           0.4177505643818744,
           0.41895675816927636,
           0.42076953089967795,
           0.42268817224843325,
           0.42467240809444995,
           0.4260159843645006
          ],
          [
           0.5236124631364021,
           0.5135943540276706,
           0.5078739567076305,
           0.5028050141226998,
           0.4955596209538147,
           0.4918894861051335,
           0.49053561206797447,
           0.4877951661140454,
           0.48520625496782976,
           0.4821966101440758,
           0.4797761884129521,
           0.4782645282066724,
           0.47790843919157666,
           0.47836442755958153,
           0.47917853784910847,
           0.4805889175502127,
           0.4823918931340483,
           0.48457876163014113
          ],
          [
           0.5664809418031425,
           0.5579739410801441,
           0.5553767217404442,
           0.5511771758430779,
           0.5482830410962638,
           0.543841423644718,
           0.5417459916817293,
           0.541757115894006,
           0.5422878648273173,
           0.5415144882253546,
           0.5402980912307314,
           0.5389600550274078,
           0.5379311461454126,
           0.5373409005654324,
           0.5374842999182103,
           0.5382641636434204,
           0.5394621062203715,
           0.5408817515728259
          ],
          [
           0.6101019861613501,
           0.6032552698712141,
           0.5995895863335345,
           0.5982546918480143,
           0.5964027431058554,
           0.5950036884501984,
           0.5925621657308042,
           0.5916041812350521,
           0.5919863619520171,
           0.593530317616807,
           0.5945273479754452,
           0.5953454018797579,
           0.5957351567589821,
           0.5955047425817277,
           0.5954839064278961,
           0.5956764587665173,
           0.5961842877402201,
           0.5971063574039235
          ],
          [
           0.653412788992707,
           0.6461645479820426,
           0.6422066056781439,
           0.6425733486797967,
           0.641831433009111,
           0.6414034496699141,
           0.6409787751315186,
           0.6401373408584199,
           0.6400280474541518,
           0.640667027144838,
           0.6422168455817943,
           0.6443930630625552,
           0.6459227575558941,
           0.6473884301503006,
           0.6486481515352231,
           0.6496104355333738,
           0.6505528127196278,
           0.6515664745324656
          ],
          [
           0.6953511582318264,
           0.6879369522348924,
           0.6856875334454084,
           0.6847492540418649,
           0.6867780795645118,
           0.6864582325518658,
           0.6869553154034875,
           0.6872417461230125,
           0.687740868315533,
           0.6881266710847438,
           0.689074575786508,
           0.6905888378448637,
           0.6926908750933887,
           0.6950467523257409,
           0.6970738554753186,
           0.6990673577854771,
           0.7010119070643146,
           0.7023584107183751
          ],
          [
           0.73347176962106,
           0.7302940614671538,
           0.7289327417968856,
           0.7275683672172697,
           0.7286899366762256,
           0.7309800322001987,
           0.7315712675651973,
           0.7327429016328537,
           0.7335922655816827,
           0.7343483135660236,
           0.7358067829531851,
           0.7371489707425027,
           0.7386465723314739,
           0.7405959920980543,
           0.7429321482677214,
           0.7454102684545028,
           0.7475890405832981,
           0.7499845743306732
          ],
          [
           0.7709744713165847,
           0.771541216160875,
           0.7695267857266579,
           0.7696303080249987,
           0.7706059651625896,
           0.7731178953673776,
           0.7757055989669794,
           0.7768702887352976,
           0.778576075141574,
           0.7799031520905402,
           0.7807839533501664,
           0.7823949584568943,
           0.7845324537769223,
           0.7863334462373786,
           0.7881702036572111,
           0.7902981247127396,
           0.7927002721008805,
           0.7952697870795618
          ],
          [
           0.8088918563145793,
           0.8135990294014928,
           0.8101924481785581,
           0.8111396926814542,
           0.8116727966919264,
           0.8136049486688375,
           0.816536573468909,
           0.8197166720098146,
           0.8216402102109832,
           0.8237716125557739,
           0.826045637645187,
           0.8270241171387855,
           0.828555195364931,
           0.8305369576189943,
           0.832866316359576,
           0.8352662896871603,
           0.8373260688522581,
           0.8395104249407286
          ],
          [
           0.8446206919545656,
           0.8506278472881341,
           0.8501754362887244,
           0.8509914254629827,
           0.8526088564351415,
           0.8545059903782892,
           0.8569527549122231,
           0.8600217616218462,
           0.8635269931189864,
           0.8655720948233068,
           0.8678320412204759,
           0.8704517332706505,
           0.8723255678269748,
           0.8740225734949618,
           0.8760848324483703,
           0.8783819204156096,
           0.8807384048351388,
           0.8832823256840534
          ],
          [
           0.8782516725796228,
           0.8841201163059047,
           0.8869977204497825,
           0.8870664167166673,
           0.8893674047462774,
           0.8910666915885521,
           0.8937823960008959,
           0.8970084384287063,
           0.9005032210559403,
           0.9042817926347269,
           0.9071990561854157,
           0.9097503873194199,
           0.9125811949025557,
           0.9152974265746572,
           0.9171814978313062,
           0.9190855269664926,
           0.9212401574018365,
           0.923596103356287
          ],
          [
           0.9124726853463496,
           0.9181328236727957,
           0.9237721865269357,
           0.9236426911455506,
           0.9254033507331609,
           0.9278652543166359,
           0.9300612956423269,
           0.9330479003713616,
           0.9365078367280901,
           0.9399591242232272,
           0.9436300038038752,
           0.9471476397635303,
           0.9496881268455866,
           0.9523965320769694,
           0.9553028359113647,
           0.9578518175719353,
           0.9602911669661935,
           0.9625602434795582
          ],
          [
           0.947284899682602,
           0.952690608922186,
           0.9580992093454039,
           0.9607341403406213,
           0.9619078862778672,
           0.9644094715405416,
           0.9667877282222577,
           0.9693171377164855,
           0.9723793125162654,
           0.9757699450352142,
           0.9793443970901272,
           0.9828507678971068,
           0.9863774218894399,
           0.9895068266412821,
           0.9920766824914828,
           0.9948064362673481,
           0.9976594887986714,
           1
          ]
         ]
        },
        {
         "colorbar": {
          "len": 0.85,
          "title": {
           "text": "Rating MSE"
          },
          "x": 0.75
         },
         "colorscale": [
          [
           0,
           "rgb(36, 86, 104)"
          ],
          [
           0.16666666666666666,
           "rgb(15, 114, 121)"
          ],
          [
           0.3333333333333333,
           "rgb(13, 143, 129)"
          ],
          [
           0.5,
           "rgb(57, 171, 126)"
          ],
          [
           0.6666666666666666,
           "rgb(110, 197, 116)"
          ],
          [
           0.8333333333333334,
           "rgb(169, 220, 103)"
          ],
          [
           1,
           "rgb(237, 239, 93)"
          ]
         ],
         "name": "Rating Matrix MSE",
         "opacity": 0.8,
         "showscale": true,
         "type": "surface",
         "x": [
          0.1,
          0.15000000000000002,
          0.20000000000000004,
          0.25000000000000006,
          0.30000000000000004,
          0.3500000000000001,
          0.40000000000000013,
          0.45000000000000007,
          0.5000000000000001,
          0.5500000000000002,
          0.6000000000000002,
          0.6500000000000001,
          0.7000000000000002,
          0.7500000000000002,
          0.8000000000000002,
          0.8500000000000002,
          0.9000000000000002,
          0.9500000000000003
         ],
         "y": [
          0.1,
          0.15000000000000002,
          0.20000000000000004,
          0.25000000000000006,
          0.30000000000000004,
          0.3500000000000001,
          0.40000000000000013,
          0.45000000000000007,
          0.5000000000000001,
          0.5500000000000002,
          0.6000000000000002,
          0.6500000000000001,
          0.7000000000000002,
          0.7500000000000002,
          0.8000000000000002,
          0.8500000000000002,
          0.9000000000000002,
          0.9500000000000003
         ],
         "z": [
          [
           0.7201330805177307,
           0.45707409164862034,
           0.31897977527128785,
           0.23315107612723032,
           0.17345672682876204,
           0.13373641812212525,
           0.10518883187006142,
           0.08254924457348575,
           0.0650066007924067,
           0.05134055781141422,
           0.040587166638254096,
           0.03205908917883016,
           0.024362793475505296,
           0.017841362752536394,
           0.012393194076046152,
           0.007723136036377143,
           0.0035447436151352513,
           0
          ],
          [
           0.9052967109159048,
           0.6524001754611332,
           0.4754077689956575,
           0.3628004972274267,
           0.2881439567006807,
           0.23221983499839963,
           0.18755710609507595,
           0.15247497534103024,
           0.12635538814059238,
           0.10595986208638294,
           0.09000905894117142,
           0.07600568386576317,
           0.06434158201700194,
           0.05465481368941444,
           0.04650426899832838,
           0.03974903632527951,
           0.03412402198253203,
           0.029447726132195873
          ],
          [
           0.9952693697229512,
           0.7647001635428387,
           0.6011444415872665,
           0.4709512480579253,
           0.3816894872815114,
           0.31751225970438934,
           0.27180120772019023,
           0.23342723048145456,
           0.19941331140608134,
           0.17135862934907728,
           0.14764109681859958,
           0.12872498506200958,
           0.11349105168419996,
           0.10098940808475357,
           0.0905388884335844,
           0.08172069593298062,
           0.07363461771022242,
           0.06682184965596191
          ],
          [
           1,
           0.8247060413307743,
           0.6753346760863889,
           0.5637083784095496,
           0.46506610702690865,
           0.3881022336687998,
           0.33416002348459606,
           0.2931303995739598,
           0.26133376903532346,
           0.23493991578841797,
           0.21251742015315425,
           0.18999413394835582,
           0.1707740286253183,
           0.15353964881840795,
           0.13912574281111675,
           0.12719917992133922,
           0.11721960395574657,
           0.10877916714849992
          ],
          [
           0.9748664335706688,
           0.8411642430066377,
           0.7143234071617747,
           0.6131036612767461,
           0.5339450454083102,
           0.45976257130891873,
           0.3963787134687825,
           0.3463385756328573,
           0.30962929879493206,
           0.27991257021381366,
           0.2567874811109282,
           0.23852290143228724,
           0.22235086950756386,
           0.20722386879711888,
           0.1920808934037694,
           0.1791604747976919,
           0.16721091677303448,
           0.1558150942170061
          ],
          [
           0.945633534973154,
           0.8359009649463205,
           0.7344799544631085,
           0.6388521323489728,
           0.5681671326501079,
           0.510523879682308,
           0.45458557200799155,
           0.4043527447419989,
           0.3607331880503464,
           0.3258746463769465,
           0.29904017544041694,
           0.2767680059644716,
           0.25866839474613734,
           0.243909660449994,
           0.23188148971599634,
           0.2212623550540155,
           0.21174891213837785,
           0.20190771279702704
          ],
          [
           0.9172641825633726,
           0.816090803445235,
           0.7339913749968159,
           0.6602574368008405,
           0.5856117208113425,
           0.5322604661875131,
           0.49153022528767054,
           0.4496348931528743,
           0.41223414987752083,
           0.37616647530218494,
           0.34456210733235726,
           0.3187273796778012,
           0.2981721175944244,
           0.281231640333256,
           0.2665710563998638,
           0.2545537154040237,
           0.24449406225927198,
           0.23613461792844428
          ],
          [
           0.8875051037048715,
           0.7924065321762835,
           0.7283184542266506,
           0.6622670592132563,
           0.6044201511835816,
           0.548052664654094,
           0.5060237975044457,
           0.47468313299525344,
           0.4469350474287852,
           0.41737418613109745,
           0.390236726206703,
           0.3641346940489386,
           0.3407243683105339,
           0.32090473050846124,
           0.3046414061592113,
           0.2911953052951046,
           0.27962890373975213,
           0.26955665477030755
          ],
          [
           0.8649608847536039,
           0.7753216897545875,
           0.7111170690322747,
           0.6598690867945433,
           0.6105611036975765,
           0.5656414257779205,
           0.522332702012094,
           0.4887974129723497,
           0.46273517134997144,
           0.44245698097338193,
           0.4212397138332389,
           0.40105319757750557,
           0.3819396219788189,
           0.3629132219642186,
           0.34537877301737796,
           0.3300109525048791,
           0.3169451906973634,
           0.3059574419880656
          ],
          [
           0.8500619247234612,
           0.7568079001105049,
           0.6965861658562672,
           0.6554446606252528,
           0.6133316101042068,
           0.575393603957114,
           0.5398595850385952,
           0.5063931285986071,
           0.47934780968576807,
           0.4574522526660868,
           0.4400767807927559,
           0.426038346249053,
           0.41033518161733584,
           0.3957858866896278,
           0.3819143876874104,
           0.36856329045698777,
           0.35573581415599176,
           0.34425620551967284
          ],
          [
           0.8296721344610648,
           0.7412970943703514,
           0.6880525717300392,
           0.6452245156595005,
           0.6164303917415349,
           0.5818021591256732,
           0.5520895331530722,
           0.5238700712673882,
           0.4982086545732486,
           0.475932647163093,
           0.4576558353985336,
           0.4427323970572262,
           0.4306835881306059,
           0.42023960541561767,
           0.40927098742608226,
           0.39895591025911137,
           0.38922098851882925,
           0.3790693635055584
          ],
          [
           0.7976664126280415,
           0.7312231695201324,
           0.6810703774704391,
           0.6400173487698927,
           0.6107341774078524,
           0.5879007379406304,
           0.5614980793560522,
           0.5381402430446048,
           0.5158939061492408,
           0.4946693472038106,
           0.4776587650157478,
           0.46274012054818736,
           0.4499141881070937,
           0.4393807385659043,
           0.43078717421045865,
           0.42318686747367085,
           0.41508060002323777,
           0.40819335349914476
          ],
          [
           0.7702190632959658,
           0.7247757206006251,
           0.6727757409759086,
           0.6375462851139114,
           0.6089750378581791,
           0.58828677459277,
           0.5705393327995657,
           0.5501063731963107,
           0.5318519984302913,
           0.5146553809487106,
           0.4968799636831792,
           0.4827937411466552,
           0.47147308396125265,
           0.46107108776866823,
           0.45195753253984483,
           0.4443766672545889,
           0.4381617353606003,
           0.43289152123529007
          ],
          [
           0.7481902318234229,
           0.7240479598438015,
           0.6691619590844985,
           0.6378362625333407,
           0.6099746287706659,
           0.5893189653703236,
           0.5739583933297483,
           0.5609467493575118,
           0.5454541955332861,
           0.5310038724418873,
           0.5190015286251912,
           0.5041650757604632,
           0.4921393317263296,
           0.4824376620103359,
           0.4745475019718224,
           0.4677989739434756,
           0.46136713450842126,
           0.45588124630553206
          ],
          [
           0.7293555037327638,
           0.7114060145727497,
           0.6694929901258927,
           0.6377931968222759,
           0.6138492437325828,
           0.5943289651079039,
           0.5791262987496668,
           0.5674887249418649,
           0.558403477172478,
           0.5461165274692498,
           0.5346493046280423,
           0.5254998547619902,
           0.5151140050224219,
           0.5051358997347273,
           0.4970556246078277,
           0.49044505897239554,
           0.4848771213857571,
           0.4803325810647656
          ],
          [
           0.7133924698048051,
           0.6977270327741564,
           0.6717542398126893,
           0.639227443827252,
           0.618698675468998,
           0.5994621312624376,
           0.5855520153566759,
           0.5747690311397807,
           0.5661866301366537,
           0.5595062214936368,
           0.5513421987716671,
           0.5423963493288034,
           0.5351579947441432,
           0.528661691947015,
           0.5207238051308124,
           0.513761733888869,
           0.5081191127434537,
           0.5035511126760239
          ],
          [
           0.7014232976986804,
           0.6878222468019523,
           0.6766533444447096,
           0.6440434562078796,
           0.6234313771346732,
           0.6077104290341252,
           0.5937140579027491,
           0.5835950176503193,
           0.5760496233090838,
           0.5696412614605683,
           0.5647407874771485,
           0.5601330398727449,
           0.5532241602927553,
           0.5473821138869411,
           0.5428062979946429,
           0.5376129278272185,
           0.5326216094874595,
           0.5280232419268086
          ],
          [
           0.6934462915796359,
           0.6817334474358346,
           0.672247556358798,
           0.6522999897864041,
           0.6314034621832886,
           0.6175934990849238,
           0.6050216178135593,
           0.594930993309187,
           0.5875526420742082,
           0.5820611713350852,
           0.5778710647948258,
           0.5743238784405938,
           0.5714097471098449,
           0.5678177964607354,
           0.5631195545010189,
           0.5594796853278856,
           0.5566900939042772,
           0.5527249673318037
          ]
         ]
        }
       ],
       "layout": {
        "margin": {
         "b": 0,
         "l": 0,
         "r": 0,
         "t": 0
        },
        "scene": {
         "xaxis": {
          "title": {
           "text": "λ1 Values"
          }
         },
         "yaxis": {
          "title": {
           "text": "λ2 Values"
          }
         },
         "zaxis": {
          "title": {
           "text": "Mean Squared Error (MSE)"
          }
         }
        },
        "template": {
         "data": {
          "bar": [
           {
            "error_x": {
             "color": "#2a3f5f"
            },
            "error_y": {
             "color": "#2a3f5f"
            },
            "marker": {
             "line": {
              "color": "#E5ECF6",
              "width": 0.5
             },
             "pattern": {
              "fillmode": "overlay",
              "size": 10,
              "solidity": 0.2
             }
            },
            "type": "bar"
           }
          ],
          "barpolar": [
           {
            "marker": {
             "line": {
              "color": "#E5ECF6",
              "width": 0.5
             },
             "pattern": {
              "fillmode": "overlay",
              "size": 10,
              "solidity": 0.2
             }
            },
            "type": "barpolar"
           }
          ],
          "carpet": [
           {
            "aaxis": {
             "endlinecolor": "#2a3f5f",
             "gridcolor": "white",
             "linecolor": "white",
             "minorgridcolor": "white",
             "startlinecolor": "#2a3f5f"
            },
            "baxis": {
             "endlinecolor": "#2a3f5f",
             "gridcolor": "white",
             "linecolor": "white",
             "minorgridcolor": "white",
             "startlinecolor": "#2a3f5f"
            },
            "type": "carpet"
           }
          ],
          "choropleth": [
           {
            "colorbar": {
             "outlinewidth": 0,
             "ticks": ""
            },
            "type": "choropleth"
           }
          ],
          "contour": [
           {
            "colorbar": {
             "outlinewidth": 0,
             "ticks": ""
            },
            "colorscale": [
             [
              0,
              "#0d0887"
             ],
             [
              0.1111111111111111,
              "#46039f"
             ],
             [
              0.2222222222222222,
              "#7201a8"
             ],
             [
              0.3333333333333333,
              "#9c179e"
             ],
             [
              0.4444444444444444,
              "#bd3786"
             ],
             [
              0.5555555555555556,
              "#d8576b"
             ],
             [
              0.6666666666666666,
              "#ed7953"
             ],
             [
              0.7777777777777778,
              "#fb9f3a"
             ],
             [
              0.8888888888888888,
              "#fdca26"
             ],
             [
              1,
              "#f0f921"
             ]
            ],
            "type": "contour"
           }
          ],
          "contourcarpet": [
           {
            "colorbar": {
             "outlinewidth": 0,
             "ticks": ""
            },
            "type": "contourcarpet"
           }
          ],
          "heatmap": [
           {
            "colorbar": {
             "outlinewidth": 0,
             "ticks": ""
            },
            "colorscale": [
             [
              0,
              "#0d0887"
             ],
             [
              0.1111111111111111,
              "#46039f"
             ],
             [
              0.2222222222222222,
              "#7201a8"
             ],
             [
              0.3333333333333333,
              "#9c179e"
             ],
             [
              0.4444444444444444,
              "#bd3786"
             ],
             [
              0.5555555555555556,
              "#d8576b"
             ],
             [
              0.6666666666666666,
              "#ed7953"
             ],
             [
              0.7777777777777778,
              "#fb9f3a"
             ],
             [
              0.8888888888888888,
              "#fdca26"
             ],
             [
              1,
              "#f0f921"
             ]
            ],
            "type": "heatmap"
           }
          ],
          "heatmapgl": [
           {
            "colorbar": {
             "outlinewidth": 0,
             "ticks": ""
            },
            "colorscale": [
             [
              0,
              "#0d0887"
             ],
             [
              0.1111111111111111,
              "#46039f"
             ],
             [
              0.2222222222222222,
              "#7201a8"
             ],
             [
              0.3333333333333333,
              "#9c179e"
             ],
             [
              0.4444444444444444,
              "#bd3786"
             ],
             [
              0.5555555555555556,
              "#d8576b"
             ],
             [
              0.6666666666666666,
              "#ed7953"
             ],
             [
              0.7777777777777778,
              "#fb9f3a"
             ],
             [
              0.8888888888888888,
              "#fdca26"
             ],
             [
              1,
              "#f0f921"
             ]
            ],
            "type": "heatmapgl"
           }
          ],
          "histogram": [
           {
            "marker": {
             "pattern": {
              "fillmode": "overlay",
              "size": 10,
              "solidity": 0.2
             }
            },
            "type": "histogram"
           }
          ],
          "histogram2d": [
           {
            "colorbar": {
             "outlinewidth": 0,
             "ticks": ""
            },
            "colorscale": [
             [
              0,
              "#0d0887"
             ],
             [
              0.1111111111111111,
              "#46039f"
             ],
             [
              0.2222222222222222,
              "#7201a8"
             ],
             [
              0.3333333333333333,
              "#9c179e"
             ],
             [
              0.4444444444444444,
              "#bd3786"
             ],
             [
              0.5555555555555556,
              "#d8576b"
             ],
             [
              0.6666666666666666,
              "#ed7953"
             ],
             [
              0.7777777777777778,
              "#fb9f3a"
             ],
             [
              0.8888888888888888,
              "#fdca26"
             ],
             [
              1,
              "#f0f921"
             ]
            ],
            "type": "histogram2d"
           }
          ],
          "histogram2dcontour": [
           {
            "colorbar": {
             "outlinewidth": 0,
             "ticks": ""
            },
            "colorscale": [
             [
              0,
              "#0d0887"
             ],
             [
              0.1111111111111111,
              "#46039f"
             ],
             [
              0.2222222222222222,
              "#7201a8"
             ],
             [
              0.3333333333333333,
              "#9c179e"
             ],
             [
              0.4444444444444444,
              "#bd3786"
             ],
             [
              0.5555555555555556,
              "#d8576b"
             ],
             [
              0.6666666666666666,
              "#ed7953"
             ],
             [
              0.7777777777777778,
              "#fb9f3a"
             ],
             [
              0.8888888888888888,
              "#fdca26"
             ],
             [
              1,
              "#f0f921"
             ]
            ],
            "type": "histogram2dcontour"
           }
          ],
          "mesh3d": [
           {
            "colorbar": {
             "outlinewidth": 0,
             "ticks": ""
            },
            "type": "mesh3d"
           }
          ],
          "parcoords": [
           {
            "line": {
             "colorbar": {
              "outlinewidth": 0,
              "ticks": ""
             }
            },
            "type": "parcoords"
           }
          ],
          "pie": [
           {
            "automargin": true,
            "type": "pie"
           }
          ],
          "scatter": [
           {
            "fillpattern": {
             "fillmode": "overlay",
             "size": 10,
             "solidity": 0.2
            },
            "type": "scatter"
           }
          ],
          "scatter3d": [
           {
            "line": {
             "colorbar": {
              "outlinewidth": 0,
              "ticks": ""
             }
            },
            "marker": {
             "colorbar": {
              "outlinewidth": 0,
              "ticks": ""
             }
            },
            "type": "scatter3d"
           }
          ],
          "scattercarpet": [
           {
            "marker": {
             "colorbar": {
              "outlinewidth": 0,
              "ticks": ""
             }
            },
            "type": "scattercarpet"
           }
          ],
          "scattergeo": [
           {
            "marker": {
             "colorbar": {
              "outlinewidth": 0,
              "ticks": ""
             }
            },
            "type": "scattergeo"
           }
          ],
          "scattergl": [
           {
            "marker": {
             "colorbar": {
              "outlinewidth": 0,
              "ticks": ""
             }
            },
            "type": "scattergl"
           }
          ],
          "scattermapbox": [
           {
            "marker": {
             "colorbar": {
              "outlinewidth": 0,
              "ticks": ""
             }
            },
            "type": "scattermapbox"
           }
          ],
          "scatterpolar": [
           {
            "marker": {
             "colorbar": {
              "outlinewidth": 0,
              "ticks": ""
             }
            },
            "type": "scatterpolar"
           }
          ],
          "scatterpolargl": [
           {
            "marker": {
             "colorbar": {
              "outlinewidth": 0,
              "ticks": ""
             }
            },
            "type": "scatterpolargl"
           }
          ],
          "scatterternary": [
           {
            "marker": {
             "colorbar": {
              "outlinewidth": 0,
              "ticks": ""
             }
            },
            "type": "scatterternary"
           }
          ],
          "surface": [
           {
            "colorbar": {
             "outlinewidth": 0,
             "ticks": ""
            },
            "colorscale": [
             [
              0,
              "#0d0887"
             ],
             [
              0.1111111111111111,
              "#46039f"
             ],
             [
              0.2222222222222222,
              "#7201a8"
             ],
             [
              0.3333333333333333,
              "#9c179e"
             ],
             [
              0.4444444444444444,
              "#bd3786"
             ],
             [
              0.5555555555555556,
              "#d8576b"
             ],
             [
              0.6666666666666666,
              "#ed7953"
             ],
             [
              0.7777777777777778,
              "#fb9f3a"
             ],
             [
              0.8888888888888888,
              "#fdca26"
             ],
             [
              1,
              "#f0f921"
             ]
            ],
            "type": "surface"
           }
          ],
          "table": [
           {
            "cells": {
             "fill": {
              "color": "#EBF0F8"
             },
             "line": {
              "color": "white"
             }
            },
            "header": {
             "fill": {
              "color": "#C8D4E3"
             },
             "line": {
              "color": "white"
             }
            },
            "type": "table"
           }
          ]
         },
         "layout": {
          "annotationdefaults": {
           "arrowcolor": "#2a3f5f",
           "arrowhead": 0,
           "arrowwidth": 1
          },
          "autotypenumbers": "strict",
          "coloraxis": {
           "colorbar": {
            "outlinewidth": 0,
            "ticks": ""
           }
          },
          "colorscale": {
           "diverging": [
            [
             0,
             "#8e0152"
            ],
            [
             0.1,
             "#c51b7d"
            ],
            [
             0.2,
             "#de77ae"
            ],
            [
             0.3,
             "#f1b6da"
            ],
            [
             0.4,
             "#fde0ef"
            ],
            [
             0.5,
             "#f7f7f7"
            ],
            [
             0.6,
             "#e6f5d0"
            ],
            [
             0.7,
             "#b8e186"
            ],
            [
             0.8,
             "#7fbc41"
            ],
            [
             0.9,
             "#4d9221"
            ],
            [
             1,
             "#276419"
            ]
           ],
           "sequential": [
            [
             0,
             "#0d0887"
            ],
            [
             0.1111111111111111,
             "#46039f"
            ],
            [
             0.2222222222222222,
             "#7201a8"
            ],
            [
             0.3333333333333333,
             "#9c179e"
            ],
            [
             0.4444444444444444,
             "#bd3786"
            ],
            [
             0.5555555555555556,
             "#d8576b"
            ],
            [
             0.6666666666666666,
             "#ed7953"
            ],
            [
             0.7777777777777778,
             "#fb9f3a"
            ],
            [
             0.8888888888888888,
             "#fdca26"
            ],
            [
             1,
             "#f0f921"
            ]
           ],
           "sequentialminus": [
            [
             0,
             "#0d0887"
            ],
            [
             0.1111111111111111,
             "#46039f"
            ],
            [
             0.2222222222222222,
             "#7201a8"
            ],
            [
             0.3333333333333333,
             "#9c179e"
            ],
            [
             0.4444444444444444,
             "#bd3786"
            ],
            [
             0.5555555555555556,
             "#d8576b"
            ],
            [
             0.6666666666666666,
             "#ed7953"
            ],
            [
             0.7777777777777778,
             "#fb9f3a"
            ],
            [
             0.8888888888888888,
             "#fdca26"
            ],
            [
             1,
             "#f0f921"
            ]
           ]
          },
          "colorway": [
           "#636efa",
           "#EF553B",
           "#00cc96",
           "#ab63fa",
           "#FFA15A",
           "#19d3f3",
           "#FF6692",
           "#B6E880",
           "#FF97FF",
           "#FECB52"
          ],
          "font": {
           "color": "#2a3f5f"
          },
          "geo": {
           "bgcolor": "white",
           "lakecolor": "white",
           "landcolor": "#E5ECF6",
           "showlakes": true,
           "showland": true,
           "subunitcolor": "white"
          },
          "hoverlabel": {
           "align": "left"
          },
          "hovermode": "closest",
          "mapbox": {
           "style": "light"
          },
          "paper_bgcolor": "white",
          "plot_bgcolor": "#E5ECF6",
          "polar": {
           "angularaxis": {
            "gridcolor": "white",
            "linecolor": "white",
            "ticks": ""
           },
           "bgcolor": "#E5ECF6",
           "radialaxis": {
            "gridcolor": "white",
            "linecolor": "white",
            "ticks": ""
           }
          },
          "scene": {
           "xaxis": {
            "backgroundcolor": "#E5ECF6",
            "gridcolor": "white",
            "gridwidth": 2,
            "linecolor": "white",
            "showbackground": true,
            "ticks": "",
            "zerolinecolor": "white"
           },
           "yaxis": {
            "backgroundcolor": "#E5ECF6",
            "gridcolor": "white",
            "gridwidth": 2,
            "linecolor": "white",
            "showbackground": true,
            "ticks": "",
            "zerolinecolor": "white"
           },
           "zaxis": {
            "backgroundcolor": "#E5ECF6",
            "gridcolor": "white",
            "gridwidth": 2,
            "linecolor": "white",
            "showbackground": true,
            "ticks": "",
            "zerolinecolor": "white"
           }
          },
          "shapedefaults": {
           "line": {
            "color": "#2a3f5f"
           }
          },
          "ternary": {
           "aaxis": {
            "gridcolor": "white",
            "linecolor": "white",
            "ticks": ""
           },
           "baxis": {
            "gridcolor": "white",
            "linecolor": "white",
            "ticks": ""
           },
           "bgcolor": "#E5ECF6",
           "caxis": {
            "gridcolor": "white",
            "linecolor": "white",
            "ticks": ""
           }
          },
          "title": {
           "x": 0.05
          },
          "xaxis": {
           "automargin": true,
           "gridcolor": "white",
           "linecolor": "white",
           "ticks": "",
           "title": {
            "standoff": 15
           },
           "zerolinecolor": "white",
           "zerolinewidth": 2
          },
          "yaxis": {
           "automargin": true,
           "gridcolor": "white",
           "linecolor": "white",
           "ticks": "",
           "title": {
            "standoff": 15
           },
           "zerolinecolor": "white",
           "zerolinewidth": 2
          }
         }
        },
        "title": {
         "text": "SLIM Model: 3D Surface Plot of Errors"
        }
       }
      }
     },
     "metadata": {},
     "output_type": "display_data"
    }
   ],
   "source": [
    "import plotly.graph_objects as go\n",
    "\n",
    "# Create a 3D surface plot for similarity matrix errors\n",
    "fig = go.Figure()\n",
    "\n",
    "# Add the first surface for similarity matrix errors\n",
    "fig.add_trace(go.Surface(\n",
    "    z=mse_similarity_grid_scaled,\n",
    "    x=lambda_1_values,\n",
    "    y=lambda_2_values,\n",
    "    colorscale='Agsunset',\n",
    "    name=\"Similarity Matrix MSE\",\n",
    "    showscale=True,\n",
    "    colorbar=dict(\n",
    "        title=\"Similarity MSE\",\n",
    "        x=0.25,  # Position of the colorbar\n",
    "        len=0.85  # Length of the colorbar\n",
    "    )\n",
    "))\n",
    "\n",
    "# Add the second surface for rating matrix errors\n",
    "fig.add_trace(go.Surface(\n",
    "    z=mse_rating_grid_scaled,\n",
    "    x=lambda_1_values,\n",
    "    y=lambda_2_values,\n",
    "    colorscale='Aggrnyl',\n",
    "    name=\"Rating Matrix MSE\",\n",
    "    showscale=True,\n",
    "    opacity=0.8,\n",
    "    colorbar=dict(\n",
    "        title=\"Rating MSE\",\n",
    "        x=0.75,  # Position of the colorbar (shifted right)\n",
    "        len=0.85  # Length of the colorbar\n",
    "    )\n",
    "))\n",
    "\n",
    "# Update layout for better visualization\n",
    "fig.update_layout(\n",
    "    title=\"SLIM Model: 3D Surface Plot of Errors\",\n",
    "    scene=dict(\n",
    "        xaxis_title='λ1 Values',\n",
    "        yaxis_title='λ2 Values',\n",
    "        zaxis_title='Mean Squared Error (MSE)'\n",
    "    ),\n",
    "    margin=dict(l=0, r=0, b=0, t=0)\n",
    ")\n",
    "\n",
    "# Show the interactive plot\n",
    "fig.show()"
   ]
  },
  {
   "cell_type": "markdown",
   "metadata": {},
   "source": [
    "- Thus, the plot signifies that **`decrease in Similarity Error`** results in **`decrease in Rating Error`**, thus leading to better **`Rating`** prediction!"
   ]
  },
  {
   "cell_type": "code",
   "execution_count": null,
   "metadata": {},
   "outputs": [],
   "source": []
  }
 ],
 "metadata": {
  "kernelspec": {
   "display_name": "base",
   "language": "python",
   "name": "python3"
  },
  "language_info": {
   "codemirror_mode": {
    "name": "ipython",
    "version": 3
   },
   "file_extension": ".py",
   "mimetype": "text/x-python",
   "name": "python",
   "nbconvert_exporter": "python",
   "pygments_lexer": "ipython3",
   "version": "3.12.4"
  }
 },
 "nbformat": 4,
 "nbformat_minor": 2
}
